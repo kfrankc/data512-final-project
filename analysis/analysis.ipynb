{
 "cells": [
  {
   "cell_type": "markdown",
   "metadata": {},
   "source": [
    "# Billboard Top 100 Charts Analysis\n",
    "\n",
    "Frank Chen"
   ]
  },
  {
   "cell_type": "code",
   "execution_count": 1,
   "metadata": {
    "collapsed": false
   },
   "outputs": [],
   "source": [
    "# Import all libraries\n",
    "import pandas as pd\n",
    "import numpy as np\n",
    "import seaborn as sns\n",
    "\n",
    "# Standard plotly imports\n",
    "import plotly.graph_objects as go"
   ]
  },
  {
   "cell_type": "code",
   "execution_count": null,
   "metadata": {
    "collapsed": false
   },
   "outputs": [],
   "source": [
    "# Load data\n",
    "bboard_data = pd.read_csv('../data/hot_100.csv')\n",
    "yt_data = pd.read_csv('../data/yt_us_videos.csv')"
   ]
  },
  {
   "cell_type": "code",
   "execution_count": null,
   "metadata": {
    "collapsed": false,
    "scrolled": false
   },
   "outputs": [],
   "source": [
    "bboard_data.tail()"
   ]
  },
  {
   "cell_type": "markdown",
   "metadata": {},
   "source": [
    "# Initial Data Cleaning"
   ]
  },
  {
   "cell_type": "markdown",
   "metadata": {},
   "source": [
    "First thing to do is separate the `WeekID` field into `month`, `day`, `year` for easier analysis in the future"
   ]
  },
  {
   "cell_type": "code",
   "execution_count": null,
   "metadata": {
    "collapsed": true
   },
   "outputs": [],
   "source": [
    "bboard_data['WeekID'] = pd.to_datetime(bboard_data['WeekID'], format='%m/%d/%Y')"
   ]
  },
  {
   "cell_type": "code",
   "execution_count": null,
   "metadata": {
    "collapsed": false
   },
   "outputs": [],
   "source": [
    "bboard_data['year'] = bboard_data['WeekID'].dt.year\n",
    "bboard_data['month'] = bboard_data['WeekID'].dt.month\n",
    "bboard_data['day'] = bboard_data['WeekID'].dt.day\n",
    "bboard_data.to_csv('cleaned_bboard_data.csv')"
   ]
  },
  {
   "cell_type": "markdown",
   "metadata": {},
   "source": [
    "# Analysis\n",
    "\n",
    "We will first focus our analysis on the Billboard Leading Hot no. 1 songs.\n",
    "\n",
    "### I. Analysis of Songs in terms of Popularity and Relevance"
   ]
  },
  {
   "cell_type": "markdown",
   "metadata": {
    "collapsed": true
   },
   "source": [
    "This dataset provides potential for rich analysis into both the popularity **and** relevance of no. 1 songs on the Billboard charts. We define the two terms below:\n",
    "\n",
    "**Popularity**: how long the song stayed at no. 1 given all the weeks the song stayed on the chart. We represent this as the percentage of no. 1 counts over the total number of weeks the song spent on chart.\n",
    "\n",
    "**Relevance**: how long the song stayed in the Billboard charts. We represent this as the total number of weeks the song spent on the chart.\n",
    "\n",
    "I will be preparing a chart that represents 3 dimensions of data: x-axis will show the songs, y-axis will show the popularity percentage of that song, and the data point itself will be an area measuring the relevance of the song. "
   ]
  },
  {
   "cell_type": "markdown",
   "metadata": {},
   "source": [
    "#### Step 1: Data Preparation"
   ]
  },
  {
   "cell_type": "code",
   "execution_count": null,
   "metadata": {
    "collapsed": true
   },
   "outputs": [],
   "source": [
    "bboard_data = pd.read_csv('cleaned_bboard_data.csv')"
   ]
  },
  {
   "cell_type": "code",
   "execution_count": null,
   "metadata": {
    "collapsed": false
   },
   "outputs": [],
   "source": [
    "# use pivot table to extract counts of week positions for each song\n",
    "# stackoverflow link: https://stackoverflow.com/questions/54527134/counting-column-values-based-on-values-in-other-columns-for-pandas-dataframes\n",
    "bboard_data['count'] = 1\n",
    "result = bboard_data.pivot_table(\n",
    "    index=['Song'], columns='Week Position', values='count',\n",
    "    fill_value=0, aggfunc=np.sum\n",
    ")\n",
    "# save result to csv for future use\n",
    "result.to_csv('song_position_count.csv')"
   ]
  },
  {
   "cell_type": "code",
   "execution_count": null,
   "metadata": {
    "collapsed": false
   },
   "outputs": [],
   "source": [
    "# read song_position_count.csv\n",
    "song_position_count = pd.read_csv(\"song_position_count.csv\")"
   ]
  },
  {
   "cell_type": "code",
   "execution_count": null,
   "metadata": {
    "collapsed": false
   },
   "outputs": [],
   "source": [
    "# keep only the song and no. 1 column\n",
    "song_position_count = song_position_count[['Song','1']]\n",
    "song_position_count.to_csv('song_no1_count.csv')"
   ]
  },
  {
   "cell_type": "code",
   "execution_count": null,
   "metadata": {
    "collapsed": false
   },
   "outputs": [],
   "source": [
    "# join song_no1_count with bboard_data\n",
    "song_no1_count = pd.read_csv('song_no1_count.csv')\n",
    "bboard_data = pd.merge(bboard_data, song_no1_count, how='left', left_on='Song', right_on='Song')"
   ]
  },
  {
   "cell_type": "code",
   "execution_count": null,
   "metadata": {
    "collapsed": false
   },
   "outputs": [],
   "source": [
    "# remove irrelevant columns\n",
    "# stackoverflow link: https://stackoverflow.com/questions/14940743/selecting-excluding-sets-of-columns-in-pandas\n",
    "bboard_data = bboard_data.drop(['Unnamed: 0_x', 'Unnamed: 0_y'], axis=1)"
   ]
  },
  {
   "cell_type": "code",
   "execution_count": null,
   "metadata": {
    "collapsed": false
   },
   "outputs": [],
   "source": [
    "# clean rows to keep only entry for total weeks on chart\n",
    "# stackoverflow link: https://stackoverflow.com/questions/50283775/python-pandas-keep-row-with-highest-column-value\n",
    "bboard_data_tmp = bboard_data.sort_values('Weeks on Chart').drop_duplicates([\"Song\"],keep='last')"
   ]
  },
  {
   "cell_type": "code",
   "execution_count": null,
   "metadata": {
    "collapsed": true
   },
   "outputs": [],
   "source": [
    "# clean columns to keep only data needed for visualization\n",
    "bboard_data_tmp = bboard_data_tmp[['Song', 'Performer', 'Weeks on Chart', '1', 'year']]"
   ]
  },
  {
   "cell_type": "code",
   "execution_count": null,
   "metadata": {
    "collapsed": false
   },
   "outputs": [],
   "source": [
    "# rename column values\n",
    "# stackoverflow link: https://stackoverflow.com/questions/11346283/renaming-columns-in-pandas\n",
    "bboard_data_tmp.columns = ['Song', 'Performer', 'Relevance (Total Weeks on Chart)', 'Count of no. 1', 'Year']\n",
    "# calculate popularity\n",
    "# stackoverflow link: https://stackoverflow.com/questions/26133538/round-a-single-column-in-pandas\n",
    "bboard_data_tmp['Popularity'] = bboard_data_tmp['Count of no. 1']/bboard_data_tmp['Relevance (Total Weeks on Chart)']\n",
    "bboard_data_tmp['Popularity'] = bboard_data_tmp['Popularity'].round(2)"
   ]
  },
  {
   "cell_type": "code",
   "execution_count": null,
   "metadata": {
    "collapsed": true
   },
   "outputs": [],
   "source": [
    "# save to csv for future analysis\n",
    "bboard_data_tmp.to_csv('bboard_song_pop_relevance.csv')"
   ]
  },
  {
   "cell_type": "markdown",
   "metadata": {},
   "source": [
    "#### Step 2: Data Visualization"
   ]
  },
  {
   "cell_type": "code",
   "execution_count": 2,
   "metadata": {
    "collapsed": false
   },
   "outputs": [],
   "source": [
    "# read in the data\n",
    "bboard_song_pop_relevance = pd.read_csv('bboard_song_pop_relevance.csv')\n",
    "bboard_song_pop_relevance = bboard_song_pop_relevance.drop(['Unnamed: 0'], axis=1)"
   ]
  },
  {
   "cell_type": "code",
   "execution_count": 3,
   "metadata": {
    "collapsed": false
   },
   "outputs": [],
   "source": [
    "# only use the top 100\n",
    "bboard_song_pop_relevance_top100 = bboard_song_pop_relevance.nlargest(100, 'Count of no. 1')\n",
    "bboard_song_pop_relevance_top100.to_csv('bboard_song_pop_relevance_top100.csv')"
   ]
  },
  {
   "cell_type": "code",
   "execution_count": 42,
   "metadata": {
    "collapsed": false
   },
   "outputs": [
    {
     "data": {
      "application/vnd.plotly.v1+json": {
       "config": {
        "plotlyServerURL": "https://plot.ly"
       },
       "data": [
        {
         "hovertemplate": "<b>%{x}</b><br><i>%{text}</i><br><br>Popularity: %{y}<br>Relevance: %{marker.size}",
         "marker": {
          "cmax": 1,
          "cmin": 0,
          "color": [
           0.59,
           0.31,
           0.48,
           0.42,
           0.33,
           0.33,
           0.25,
           0.25,
           0.23,
           0.62,
           0.48,
           0.41,
           0.52,
           0.46,
           0.36,
           0.27,
           0.25,
           0.23,
           0.23,
           0.21,
           0.21,
           0.73,
           0.39,
           0.37,
           0.33,
           0.31,
           0.26,
           0.26,
           0.45,
           0.4,
           0.38,
           0.38,
           0.34,
           0.33,
           0.31,
           0.28,
           0.26,
           0.25,
           0.24,
           0.21,
           0.47,
           0.43,
           0.39,
           0.35,
           0.35,
           0.33,
           0.31,
           0.31,
           0.3,
           0.28,
           0.25,
           0.25,
           0.24,
           0.22,
           0.2,
           0.18,
           0.4,
           0.4,
           0.4,
           0.38,
           0.36,
           0.35,
           0.35,
           0.32,
           0.32,
           0.3,
           0.28,
           0.27,
           0.22,
           0.17,
           0.16,
           0.14,
           0.47,
           0.41,
           0.37,
           0.35,
           0.35,
           0.35,
           0.32,
           0.3,
           0.3,
           0.28,
           0.28,
           0.28,
           0.28,
           0.27,
           0.26,
           0.25,
           0.25,
           0.24,
           0.24,
           0.24,
           0.23,
           0.22,
           0.21,
           0.21,
           0.19,
           0.19,
           0.18,
           0.18
          ],
          "colorbar": {
           "title": {
            "text": "Colorbar"
           }
          },
          "colorscale": [
           [
            0,
            "#000004"
           ],
           [
            0.1111111111111111,
            "#180f3d"
           ],
           [
            0.2222222222222222,
            "#440f76"
           ],
           [
            0.3333333333333333,
            "#721f81"
           ],
           [
            0.4444444444444444,
            "#9e2f7f"
           ],
           [
            0.5555555555555556,
            "#cd4071"
           ],
           [
            0.6666666666666666,
            "#f1605d"
           ],
           [
            0.7777777777777778,
            "#fd9668"
           ],
           [
            0.8888888888888888,
            "#feca8d"
           ],
           [
            1,
            "#fcfdbf"
           ]
          ],
          "size": [
           27,
           51,
           29,
           33,
           42,
           43,
           56,
           56,
           60,
           21,
           27,
           32,
           23,
           26,
           33,
           45,
           48,
           52,
           52,
           58,
           58,
           15,
           28,
           30,
           33,
           36,
           42,
           42,
           22,
           25,
           26,
           26,
           29,
           30,
           32,
           36,
           39,
           40,
           41,
           47,
           19,
           21,
           23,
           26,
           26,
           27,
           29,
           29,
           30,
           32,
           36,
           36,
           38,
           41,
           44,
           50,
           20,
           20,
           20,
           21,
           22,
           23,
           23,
           25,
           25,
           27,
           29,
           30,
           36,
           47,
           49,
           59,
           15,
           17,
           19,
           20,
           20,
           20,
           22,
           23,
           23,
           25,
           25,
           25,
           25,
           26,
           27,
           28,
           28,
           29,
           29,
           29,
           31,
           32,
           33,
           34,
           36,
           36,
           38,
           39
          ]
         },
         "mode": "markers",
         "text": [
          "Mariah Carey & Boyz II Men",
          "Luis Fonsi & Daddy Yankee Featuring Justin Bieber",
          "Whitney Houston",
          "Boyz II Men",
          "Elton John",
          "Mariah Carey",
          "Mark Ronson Featuring Bruno Mars",
          "The Black Eyed Peas",
          "Los Del Rio",
          "Van Halen",
          "Brandy & Monica",
          "Boyz II Men",
          "Eminem",
          "Adele",
          "The Black Eyed Peas",
          "Usher Featuring Lil Jon & Ludacris",
          "Robin Thicke Featuring T.I. + Pharrell",
          "Wiz Khalifa Featuring Charlie Puth",
          "The Chainsmokers Featuring Halsey",
          "Santana Featuring Rob Thomas",
          "Ed Sheeran",
          "Lil Nas X Featuring Billy Ray Cyrus",
          "Destiny's Child",
          "All-4-One",
          "Puff Daddy & Faith Evans Featuring 112",
          "Drake",
          "Maroon 5",
          "Toni Braxton",
          "Drake",
          "Debby Boone",
          "Santana Featuring The Product G&B",
          "Olivia Newton-John",
          "Nelly Featuring Kelly Rowland",
          "Beyonce",
          "Ashanti",
          "Drake Featuring WizKid & Kyla",
          "Kanye West Featuring Jamie Foxx",
          "Flo Rida Featuring T-Pain",
          "Rihanna Featuring Calvin Harris",
          "Pharrell Williams",
          "The Beatles",
          "Percy Faith And His Orchestra",
          "50 Cent Featuring Olivia",
          "Bobby Darin",
          "Kim Carnes",
          "Diana Ross & Lionel Richie",
          "Justin Timberlake Featuring T.I.",
          "Beyonce Featuring Sean Paul",
          "50 Cent",
          "OutKast",
          "Rihanna Featuring Drake",
          "Mario",
          "Ke$ha",
          "Mary J. Blige",
          "Lorde",
          "Carly Rae Jepsen",
          "Mariah Carey",
          "Bee Gees",
          "Bone Thugs-N-Harmony",
          "Ariana Grande",
          "The Police",
          "Janet Jackson",
          "Rod Stewart",
          "Drake",
          "Mariah Carey",
          "Beyonce Featuring Jay Z",
          "Mariah Carey",
          "Madonna",
          "Ellie Goulding",
          "Meghan Trainor",
          "Nickelback",
          "Gotye Featuring Kimbra",
          "The Beatles",
          "Gladys Knight And The Pips",
          "Paul McCartney And Stevie Wonder",
          "Joan Jett & the Blackhearts",
          "Smash Mouth",
          "Michael Jackson",
          "Bryan Adams",
          "Katy Perry",
          "Bobby Lewis",
          "Michael Jackson",
          "Andy Gibb",
          "Snow",
          "The Escape Club",
          "Nelly",
          "Rae Sremmurd Featuring Gucci Mane",
          "Frankie Avalon",
          "Ariana Grande",
          "Eminem Featuring Rihanna",
          "Montell Jordan",
          "UB40",
          "T.I.",
          "Soulja Boy Tell'em",
          "Rihanna Featuring Jay-Z",
          "TLC",
          "Justin Timberlake",
          "Taylor Swift",
          "Ciara Featuring Petey Pablo",
          "Iggy Azalea Featuring Charli XCX"
         ],
         "type": "scatter",
         "x": [
          "One Sweet Day",
          "Despacito",
          "I Will Always Love You",
          "I'll Make Love To You",
          "Candle In The Wind 1997/Something About The Way You Look Tonight",
          "We Belong Together",
          "Uptown Funk!",
          "I Gotta Feeling",
          "Macarena (Bayside Boys Mix)",
          "Jump",
          "The Boy Is Mine",
          "End Of The Road (From \"Boomerang\")",
          "Lose Yourself",
          "Hello",
          "Boom Boom Pow",
          "Yeah!",
          "Blurred Lines",
          "See You Again",
          "Closer",
          "Smooth",
          "Shape Of You",
          "Old Town Road",
          "Independent Women Part I",
          "I Swear",
          "I'll Be Missing You",
          "God's Plan",
          "One More Night",
          "Un-Break My Heart",
          "In My Feelings",
          "You Light Up My Life",
          "Maria Maria",
          "Physical",
          "Dilemma",
          "Irreplaceable",
          "Foolish",
          "One Dance",
          "Gold Digger",
          "Low",
          "We Found Love",
          "Happy",
          "Hey Jude",
          "The Theme From \"A Summer Place\"",
          "Candy Shop",
          "Mack The Knife",
          "Bette Davis Eyes",
          "Endless Love",
          "My Love",
          "Baby Boy",
          "In Da Club",
          "Hey Ya!",
          "Work",
          "Let Me Love You",
          "TiK ToK",
          "Family Affair",
          "Royals",
          "Call Me Maybe",
          "Honey",
          "Night Fever",
          "Tha Crossroads",
          "7 Rings",
          "Every Breath You Take",
          "That's The Way Love Goes",
          "Tonight's The Night (Gonna Be Alright)",
          "Nice For What",
          "Fantasy",
          "Crazy In Love",
          "Dreamlover",
          "Take A Bow",
          "Burn",
          "All About That Bass",
          "Rockstar",
          "Somebody That I Used To Know",
          "I Want To Hold Your Hand",
          "I Heard It Through The Grapevine",
          "Ebony And Ivory",
          "I Love Rock 'N Roll",
          "I'm A Believer",
          "Black Or White",
          "(Everything I Do) I Do It For You",
          "I Kissed A Girl",
          "Tossin' And Turnin'",
          "Billie Jean",
          "Shadow Dancing",
          "Informer",
          "I'll Be There",
          "Hot In Herre",
          "Black Beatles",
          "Venus",
          "Thank U, Next",
          "Love The Way You Lie",
          "This Is How We Do It",
          "Can't Help Falling In Love (From \"Sliver\")",
          "Whatever You Like",
          "Crank That (Soulja Boy)",
          "Umbrella",
          "Waterfalls",
          "SexyBack",
          "Blank Space",
          "Goodies",
          "Fancy"
         ],
         "y": [
          0.59,
          0.31,
          0.48,
          0.42,
          0.33,
          0.33,
          0.25,
          0.25,
          0.23,
          0.62,
          0.48,
          0.41,
          0.52,
          0.46,
          0.36,
          0.27,
          0.25,
          0.23,
          0.23,
          0.21,
          0.21,
          0.73,
          0.39,
          0.37,
          0.33,
          0.31,
          0.26,
          0.26,
          0.45,
          0.4,
          0.38,
          0.38,
          0.34,
          0.33,
          0.31,
          0.28,
          0.26,
          0.25,
          0.24,
          0.21,
          0.47,
          0.43,
          0.39,
          0.35,
          0.35,
          0.33,
          0.31,
          0.31,
          0.3,
          0.28,
          0.25,
          0.25,
          0.24,
          0.22,
          0.2,
          0.18,
          0.4,
          0.4,
          0.4,
          0.38,
          0.36,
          0.35,
          0.35,
          0.32,
          0.32,
          0.3,
          0.28,
          0.27,
          0.22,
          0.17,
          0.16,
          0.14,
          0.47,
          0.41,
          0.37,
          0.35,
          0.35,
          0.35,
          0.32,
          0.3,
          0.3,
          0.28,
          0.28,
          0.28,
          0.28,
          0.27,
          0.26,
          0.25,
          0.25,
          0.24,
          0.24,
          0.24,
          0.23,
          0.22,
          0.21,
          0.21,
          0.19,
          0.19,
          0.18,
          0.18
         ]
        }
       ],
       "layout": {
        "template": {
         "data": {
          "bar": [
           {
            "error_x": {
             "color": "#2a3f5f"
            },
            "error_y": {
             "color": "#2a3f5f"
            },
            "marker": {
             "line": {
              "color": "#E5ECF6",
              "width": 0.5
             }
            },
            "type": "bar"
           }
          ],
          "barpolar": [
           {
            "marker": {
             "line": {
              "color": "#E5ECF6",
              "width": 0.5
             }
            },
            "type": "barpolar"
           }
          ],
          "carpet": [
           {
            "aaxis": {
             "endlinecolor": "#2a3f5f",
             "gridcolor": "white",
             "linecolor": "white",
             "minorgridcolor": "white",
             "startlinecolor": "#2a3f5f"
            },
            "baxis": {
             "endlinecolor": "#2a3f5f",
             "gridcolor": "white",
             "linecolor": "white",
             "minorgridcolor": "white",
             "startlinecolor": "#2a3f5f"
            },
            "type": "carpet"
           }
          ],
          "choropleth": [
           {
            "colorbar": {
             "outlinewidth": 0,
             "ticks": ""
            },
            "type": "choropleth"
           }
          ],
          "contour": [
           {
            "colorbar": {
             "outlinewidth": 0,
             "ticks": ""
            },
            "colorscale": [
             [
              0,
              "#0d0887"
             ],
             [
              0.1111111111111111,
              "#46039f"
             ],
             [
              0.2222222222222222,
              "#7201a8"
             ],
             [
              0.3333333333333333,
              "#9c179e"
             ],
             [
              0.4444444444444444,
              "#bd3786"
             ],
             [
              0.5555555555555556,
              "#d8576b"
             ],
             [
              0.6666666666666666,
              "#ed7953"
             ],
             [
              0.7777777777777778,
              "#fb9f3a"
             ],
             [
              0.8888888888888888,
              "#fdca26"
             ],
             [
              1,
              "#f0f921"
             ]
            ],
            "type": "contour"
           }
          ],
          "contourcarpet": [
           {
            "colorbar": {
             "outlinewidth": 0,
             "ticks": ""
            },
            "type": "contourcarpet"
           }
          ],
          "heatmap": [
           {
            "colorbar": {
             "outlinewidth": 0,
             "ticks": ""
            },
            "colorscale": [
             [
              0,
              "#0d0887"
             ],
             [
              0.1111111111111111,
              "#46039f"
             ],
             [
              0.2222222222222222,
              "#7201a8"
             ],
             [
              0.3333333333333333,
              "#9c179e"
             ],
             [
              0.4444444444444444,
              "#bd3786"
             ],
             [
              0.5555555555555556,
              "#d8576b"
             ],
             [
              0.6666666666666666,
              "#ed7953"
             ],
             [
              0.7777777777777778,
              "#fb9f3a"
             ],
             [
              0.8888888888888888,
              "#fdca26"
             ],
             [
              1,
              "#f0f921"
             ]
            ],
            "type": "heatmap"
           }
          ],
          "heatmapgl": [
           {
            "colorbar": {
             "outlinewidth": 0,
             "ticks": ""
            },
            "colorscale": [
             [
              0,
              "#0d0887"
             ],
             [
              0.1111111111111111,
              "#46039f"
             ],
             [
              0.2222222222222222,
              "#7201a8"
             ],
             [
              0.3333333333333333,
              "#9c179e"
             ],
             [
              0.4444444444444444,
              "#bd3786"
             ],
             [
              0.5555555555555556,
              "#d8576b"
             ],
             [
              0.6666666666666666,
              "#ed7953"
             ],
             [
              0.7777777777777778,
              "#fb9f3a"
             ],
             [
              0.8888888888888888,
              "#fdca26"
             ],
             [
              1,
              "#f0f921"
             ]
            ],
            "type": "heatmapgl"
           }
          ],
          "histogram": [
           {
            "marker": {
             "colorbar": {
              "outlinewidth": 0,
              "ticks": ""
             }
            },
            "type": "histogram"
           }
          ],
          "histogram2d": [
           {
            "colorbar": {
             "outlinewidth": 0,
             "ticks": ""
            },
            "colorscale": [
             [
              0,
              "#0d0887"
             ],
             [
              0.1111111111111111,
              "#46039f"
             ],
             [
              0.2222222222222222,
              "#7201a8"
             ],
             [
              0.3333333333333333,
              "#9c179e"
             ],
             [
              0.4444444444444444,
              "#bd3786"
             ],
             [
              0.5555555555555556,
              "#d8576b"
             ],
             [
              0.6666666666666666,
              "#ed7953"
             ],
             [
              0.7777777777777778,
              "#fb9f3a"
             ],
             [
              0.8888888888888888,
              "#fdca26"
             ],
             [
              1,
              "#f0f921"
             ]
            ],
            "type": "histogram2d"
           }
          ],
          "histogram2dcontour": [
           {
            "colorbar": {
             "outlinewidth": 0,
             "ticks": ""
            },
            "colorscale": [
             [
              0,
              "#0d0887"
             ],
             [
              0.1111111111111111,
              "#46039f"
             ],
             [
              0.2222222222222222,
              "#7201a8"
             ],
             [
              0.3333333333333333,
              "#9c179e"
             ],
             [
              0.4444444444444444,
              "#bd3786"
             ],
             [
              0.5555555555555556,
              "#d8576b"
             ],
             [
              0.6666666666666666,
              "#ed7953"
             ],
             [
              0.7777777777777778,
              "#fb9f3a"
             ],
             [
              0.8888888888888888,
              "#fdca26"
             ],
             [
              1,
              "#f0f921"
             ]
            ],
            "type": "histogram2dcontour"
           }
          ],
          "mesh3d": [
           {
            "colorbar": {
             "outlinewidth": 0,
             "ticks": ""
            },
            "type": "mesh3d"
           }
          ],
          "parcoords": [
           {
            "line": {
             "colorbar": {
              "outlinewidth": 0,
              "ticks": ""
             }
            },
            "type": "parcoords"
           }
          ],
          "scatter": [
           {
            "marker": {
             "colorbar": {
              "outlinewidth": 0,
              "ticks": ""
             }
            },
            "type": "scatter"
           }
          ],
          "scatter3d": [
           {
            "line": {
             "colorbar": {
              "outlinewidth": 0,
              "ticks": ""
             }
            },
            "marker": {
             "colorbar": {
              "outlinewidth": 0,
              "ticks": ""
             }
            },
            "type": "scatter3d"
           }
          ],
          "scattercarpet": [
           {
            "marker": {
             "colorbar": {
              "outlinewidth": 0,
              "ticks": ""
             }
            },
            "type": "scattercarpet"
           }
          ],
          "scattergeo": [
           {
            "marker": {
             "colorbar": {
              "outlinewidth": 0,
              "ticks": ""
             }
            },
            "type": "scattergeo"
           }
          ],
          "scattergl": [
           {
            "marker": {
             "colorbar": {
              "outlinewidth": 0,
              "ticks": ""
             }
            },
            "type": "scattergl"
           }
          ],
          "scattermapbox": [
           {
            "marker": {
             "colorbar": {
              "outlinewidth": 0,
              "ticks": ""
             }
            },
            "type": "scattermapbox"
           }
          ],
          "scatterpolar": [
           {
            "marker": {
             "colorbar": {
              "outlinewidth": 0,
              "ticks": ""
             }
            },
            "type": "scatterpolar"
           }
          ],
          "scatterpolargl": [
           {
            "marker": {
             "colorbar": {
              "outlinewidth": 0,
              "ticks": ""
             }
            },
            "type": "scatterpolargl"
           }
          ],
          "scatterternary": [
           {
            "marker": {
             "colorbar": {
              "outlinewidth": 0,
              "ticks": ""
             }
            },
            "type": "scatterternary"
           }
          ],
          "surface": [
           {
            "colorbar": {
             "outlinewidth": 0,
             "ticks": ""
            },
            "colorscale": [
             [
              0,
              "#0d0887"
             ],
             [
              0.1111111111111111,
              "#46039f"
             ],
             [
              0.2222222222222222,
              "#7201a8"
             ],
             [
              0.3333333333333333,
              "#9c179e"
             ],
             [
              0.4444444444444444,
              "#bd3786"
             ],
             [
              0.5555555555555556,
              "#d8576b"
             ],
             [
              0.6666666666666666,
              "#ed7953"
             ],
             [
              0.7777777777777778,
              "#fb9f3a"
             ],
             [
              0.8888888888888888,
              "#fdca26"
             ],
             [
              1,
              "#f0f921"
             ]
            ],
            "type": "surface"
           }
          ],
          "table": [
           {
            "cells": {
             "fill": {
              "color": "#EBF0F8"
             },
             "line": {
              "color": "white"
             }
            },
            "header": {
             "fill": {
              "color": "#C8D4E3"
             },
             "line": {
              "color": "white"
             }
            },
            "type": "table"
           }
          ]
         },
         "layout": {
          "annotationdefaults": {
           "arrowcolor": "#2a3f5f",
           "arrowhead": 0,
           "arrowwidth": 1
          },
          "colorscale": {
           "diverging": [
            [
             0,
             "#8e0152"
            ],
            [
             0.1,
             "#c51b7d"
            ],
            [
             0.2,
             "#de77ae"
            ],
            [
             0.3,
             "#f1b6da"
            ],
            [
             0.4,
             "#fde0ef"
            ],
            [
             0.5,
             "#f7f7f7"
            ],
            [
             0.6,
             "#e6f5d0"
            ],
            [
             0.7,
             "#b8e186"
            ],
            [
             0.8,
             "#7fbc41"
            ],
            [
             0.9,
             "#4d9221"
            ],
            [
             1,
             "#276419"
            ]
           ],
           "sequential": [
            [
             0,
             "#0d0887"
            ],
            [
             0.1111111111111111,
             "#46039f"
            ],
            [
             0.2222222222222222,
             "#7201a8"
            ],
            [
             0.3333333333333333,
             "#9c179e"
            ],
            [
             0.4444444444444444,
             "#bd3786"
            ],
            [
             0.5555555555555556,
             "#d8576b"
            ],
            [
             0.6666666666666666,
             "#ed7953"
            ],
            [
             0.7777777777777778,
             "#fb9f3a"
            ],
            [
             0.8888888888888888,
             "#fdca26"
            ],
            [
             1,
             "#f0f921"
            ]
           ],
           "sequentialminus": [
            [
             0,
             "#0d0887"
            ],
            [
             0.1111111111111111,
             "#46039f"
            ],
            [
             0.2222222222222222,
             "#7201a8"
            ],
            [
             0.3333333333333333,
             "#9c179e"
            ],
            [
             0.4444444444444444,
             "#bd3786"
            ],
            [
             0.5555555555555556,
             "#d8576b"
            ],
            [
             0.6666666666666666,
             "#ed7953"
            ],
            [
             0.7777777777777778,
             "#fb9f3a"
            ],
            [
             0.8888888888888888,
             "#fdca26"
            ],
            [
             1,
             "#f0f921"
            ]
           ]
          },
          "colorway": [
           "#636efa",
           "#EF553B",
           "#00cc96",
           "#ab63fa",
           "#FFA15A",
           "#19d3f3",
           "#FF6692",
           "#B6E880",
           "#FF97FF",
           "#FECB52"
          ],
          "font": {
           "color": "#2a3f5f"
          },
          "geo": {
           "bgcolor": "white",
           "lakecolor": "white",
           "landcolor": "#E5ECF6",
           "showlakes": true,
           "showland": true,
           "subunitcolor": "white"
          },
          "hoverlabel": {
           "align": "left"
          },
          "hovermode": "closest",
          "mapbox": {
           "style": "light"
          },
          "paper_bgcolor": "white",
          "plot_bgcolor": "#E5ECF6",
          "polar": {
           "angularaxis": {
            "gridcolor": "white",
            "linecolor": "white",
            "ticks": ""
           },
           "bgcolor": "#E5ECF6",
           "radialaxis": {
            "gridcolor": "white",
            "linecolor": "white",
            "ticks": ""
           }
          },
          "scene": {
           "xaxis": {
            "backgroundcolor": "#E5ECF6",
            "gridcolor": "white",
            "gridwidth": 2,
            "linecolor": "white",
            "showbackground": true,
            "ticks": "",
            "zerolinecolor": "white"
           },
           "yaxis": {
            "backgroundcolor": "#E5ECF6",
            "gridcolor": "white",
            "gridwidth": 2,
            "linecolor": "white",
            "showbackground": true,
            "ticks": "",
            "zerolinecolor": "white"
           },
           "zaxis": {
            "backgroundcolor": "#E5ECF6",
            "gridcolor": "white",
            "gridwidth": 2,
            "linecolor": "white",
            "showbackground": true,
            "ticks": "",
            "zerolinecolor": "white"
           }
          },
          "shapedefaults": {
           "line": {
            "color": "#2a3f5f"
           }
          },
          "ternary": {
           "aaxis": {
            "gridcolor": "white",
            "linecolor": "white",
            "ticks": ""
           },
           "baxis": {
            "gridcolor": "white",
            "linecolor": "white",
            "ticks": ""
           },
           "bgcolor": "#E5ECF6",
           "caxis": {
            "gridcolor": "white",
            "linecolor": "white",
            "ticks": ""
           }
          },
          "title": {
           "x": 0.05
          },
          "xaxis": {
           "automargin": true,
           "gridcolor": "white",
           "linecolor": "white",
           "ticks": "",
           "zerolinecolor": "white",
           "zerolinewidth": 2
          },
          "yaxis": {
           "automargin": true,
           "gridcolor": "white",
           "linecolor": "white",
           "ticks": "",
           "zerolinecolor": "white",
           "zerolinewidth": 2
          }
         }
        },
        "title": {
         "text": "Billboard #1 Songs in terms of Popularity & Relevance",
         "x": 0.5,
         "xanchor": "center",
         "y": 0.9,
         "yanchor": "top"
        },
        "xaxis": {
         "tickangle": 45,
         "title": {
          "text": "Song"
         }
        },
        "yaxis": {
         "title": {
          "text": "Popularity"
         }
        }
       }
      },
      "text/html": [
       "<div>\n",
       "        \n",
       "        \n",
       "            <div id=\"48d1dd7b-323a-4803-94ae-af727b9b6318\" class=\"plotly-graph-div\" style=\"height:525px; width:100%;\"></div>\n",
       "            <script type=\"text/javascript\">\n",
       "                require([\"plotly\"], function(Plotly) {\n",
       "                    window.PLOTLYENV=window.PLOTLYENV || {};\n",
       "                    \n",
       "                if (document.getElementById(\"48d1dd7b-323a-4803-94ae-af727b9b6318\")) {\n",
       "                    Plotly.newPlot(\n",
       "                        '48d1dd7b-323a-4803-94ae-af727b9b6318',\n",
       "                        [{\"hovertemplate\": \"<b>%{x}</b><br><i>%{text}</i><br><br>Popularity: %{y}<br>Relevance: %{marker.size}\", \"marker\": {\"cmax\": 1, \"cmin\": 0, \"color\": [0.59, 0.31, 0.48, 0.42, 0.33, 0.33, 0.25, 0.25, 0.23, 0.62, 0.48, 0.41, 0.52, 0.46, 0.36, 0.27, 0.25, 0.23, 0.23, 0.21, 0.21, 0.73, 0.39, 0.37, 0.33, 0.31, 0.26, 0.26, 0.45, 0.4, 0.38, 0.38, 0.34, 0.33, 0.31, 0.28, 0.26, 0.25, 0.24, 0.21, 0.47, 0.43, 0.39, 0.35, 0.35, 0.33, 0.31, 0.31, 0.3, 0.28, 0.25, 0.25, 0.24, 0.22, 0.2, 0.18, 0.4, 0.4, 0.4, 0.38, 0.36, 0.35, 0.35, 0.32, 0.32, 0.3, 0.28, 0.27, 0.22, 0.17, 0.16, 0.14, 0.47, 0.41, 0.37, 0.35, 0.35, 0.35, 0.32, 0.3, 0.3, 0.28, 0.28, 0.28, 0.28, 0.27, 0.26, 0.25, 0.25, 0.24, 0.24, 0.24, 0.23, 0.22, 0.21, 0.21, 0.19, 0.19, 0.18, 0.18], \"colorbar\": {\"title\": {\"text\": \"Colorbar\"}}, \"colorscale\": [[0.0, \"#000004\"], [0.1111111111111111, \"#180f3d\"], [0.2222222222222222, \"#440f76\"], [0.3333333333333333, \"#721f81\"], [0.4444444444444444, \"#9e2f7f\"], [0.5555555555555556, \"#cd4071\"], [0.6666666666666666, \"#f1605d\"], [0.7777777777777778, \"#fd9668\"], [0.8888888888888888, \"#feca8d\"], [1.0, \"#fcfdbf\"]], \"size\": [27, 51, 29, 33, 42, 43, 56, 56, 60, 21, 27, 32, 23, 26, 33, 45, 48, 52, 52, 58, 58, 15, 28, 30, 33, 36, 42, 42, 22, 25, 26, 26, 29, 30, 32, 36, 39, 40, 41, 47, 19, 21, 23, 26, 26, 27, 29, 29, 30, 32, 36, 36, 38, 41, 44, 50, 20, 20, 20, 21, 22, 23, 23, 25, 25, 27, 29, 30, 36, 47, 49, 59, 15, 17, 19, 20, 20, 20, 22, 23, 23, 25, 25, 25, 25, 26, 27, 28, 28, 29, 29, 29, 31, 32, 33, 34, 36, 36, 38, 39]}, \"mode\": \"markers\", \"text\": [\"Mariah Carey & Boyz II Men\", \"Luis Fonsi & Daddy Yankee Featuring Justin Bieber\", \"Whitney Houston\", \"Boyz II Men\", \"Elton John\", \"Mariah Carey\", \"Mark Ronson Featuring Bruno Mars\", \"The Black Eyed Peas\", \"Los Del Rio\", \"Van Halen\", \"Brandy & Monica\", \"Boyz II Men\", \"Eminem\", \"Adele\", \"The Black Eyed Peas\", \"Usher Featuring Lil Jon & Ludacris\", \"Robin Thicke Featuring T.I. + Pharrell\", \"Wiz Khalifa Featuring Charlie Puth\", \"The Chainsmokers Featuring Halsey\", \"Santana Featuring Rob Thomas\", \"Ed Sheeran\", \"Lil Nas X Featuring Billy Ray Cyrus\", \"Destiny's Child\", \"All-4-One\", \"Puff Daddy & Faith Evans Featuring 112\", \"Drake\", \"Maroon 5\", \"Toni Braxton\", \"Drake\", \"Debby Boone\", \"Santana Featuring The Product G&B\", \"Olivia Newton-John\", \"Nelly Featuring Kelly Rowland\", \"Beyonce\", \"Ashanti\", \"Drake Featuring WizKid & Kyla\", \"Kanye West Featuring Jamie Foxx\", \"Flo Rida Featuring T-Pain\", \"Rihanna Featuring Calvin Harris\", \"Pharrell Williams\", \"The Beatles\", \"Percy Faith And His Orchestra\", \"50 Cent Featuring Olivia\", \"Bobby Darin\", \"Kim Carnes\", \"Diana Ross & Lionel Richie\", \"Justin Timberlake Featuring T.I.\", \"Beyonce Featuring Sean Paul\", \"50 Cent\", \"OutKast\", \"Rihanna Featuring Drake\", \"Mario\", \"Ke$ha\", \"Mary J. Blige\", \"Lorde\", \"Carly Rae Jepsen\", \"Mariah Carey\", \"Bee Gees\", \"Bone Thugs-N-Harmony\", \"Ariana Grande\", \"The Police\", \"Janet Jackson\", \"Rod Stewart\", \"Drake\", \"Mariah Carey\", \"Beyonce Featuring Jay Z\", \"Mariah Carey\", \"Madonna\", \"Ellie Goulding\", \"Meghan Trainor\", \"Nickelback\", \"Gotye Featuring Kimbra\", \"The Beatles\", \"Gladys Knight And The Pips\", \"Paul McCartney And Stevie Wonder\", \"Joan Jett & the Blackhearts\", \"Smash Mouth\", \"Michael Jackson\", \"Bryan Adams\", \"Katy Perry\", \"Bobby Lewis\", \"Michael Jackson\", \"Andy Gibb\", \"Snow\", \"The Escape Club\", \"Nelly\", \"Rae Sremmurd Featuring Gucci Mane\", \"Frankie Avalon\", \"Ariana Grande\", \"Eminem Featuring Rihanna\", \"Montell Jordan\", \"UB40\", \"T.I.\", \"Soulja Boy Tell'em\", \"Rihanna Featuring Jay-Z\", \"TLC\", \"Justin Timberlake\", \"Taylor Swift\", \"Ciara Featuring Petey Pablo\", \"Iggy Azalea Featuring Charli XCX\"], \"type\": \"scatter\", \"x\": [\"One Sweet Day\", \"Despacito\", \"I Will Always Love You\", \"I'll Make Love To You\", \"Candle In The Wind 1997/Something About The Way You Look Tonight\", \"We Belong Together\", \"Uptown Funk!\", \"I Gotta Feeling\", \"Macarena (Bayside Boys Mix)\", \"Jump\", \"The Boy Is Mine\", \"End Of The Road (From \\\"Boomerang\\\")\", \"Lose Yourself\", \"Hello\", \"Boom Boom Pow\", \"Yeah!\", \"Blurred Lines\", \"See You Again\", \"Closer\", \"Smooth\", \"Shape Of You\", \"Old Town Road\", \"Independent Women Part I\", \"I Swear\", \"I'll Be Missing You\", \"God's Plan\", \"One More Night\", \"Un-Break My Heart\", \"In My Feelings\", \"You Light Up My Life\", \"Maria Maria\", \"Physical\", \"Dilemma\", \"Irreplaceable\", \"Foolish\", \"One Dance\", \"Gold Digger\", \"Low\", \"We Found Love\", \"Happy\", \"Hey Jude\", \"The Theme From \\\"A Summer Place\\\"\", \"Candy Shop\", \"Mack The Knife\", \"Bette Davis Eyes\", \"Endless Love\", \"My Love\", \"Baby Boy\", \"In Da Club\", \"Hey Ya!\", \"Work\", \"Let Me Love You\", \"TiK ToK\", \"Family Affair\", \"Royals\", \"Call Me Maybe\", \"Honey\", \"Night Fever\", \"Tha Crossroads\", \"7 Rings\", \"Every Breath You Take\", \"That's The Way Love Goes\", \"Tonight's The Night (Gonna Be Alright)\", \"Nice For What\", \"Fantasy\", \"Crazy In Love\", \"Dreamlover\", \"Take A Bow\", \"Burn\", \"All About That Bass\", \"Rockstar\", \"Somebody That I Used To Know\", \"I Want To Hold Your Hand\", \"I Heard It Through The Grapevine\", \"Ebony And Ivory\", \"I Love Rock 'N Roll\", \"I'm A Believer\", \"Black Or White\", \"(Everything I Do) I Do It For You\", \"I Kissed A Girl\", \"Tossin' And Turnin'\", \"Billie Jean\", \"Shadow Dancing\", \"Informer\", \"I'll Be There\", \"Hot In Herre\", \"Black Beatles\", \"Venus\", \"Thank U, Next\", \"Love The Way You Lie\", \"This Is How We Do It\", \"Can't Help Falling In Love (From \\\"Sliver\\\")\", \"Whatever You Like\", \"Crank That (Soulja Boy)\", \"Umbrella\", \"Waterfalls\", \"SexyBack\", \"Blank Space\", \"Goodies\", \"Fancy\"], \"y\": [0.59, 0.31, 0.48, 0.42, 0.33, 0.33, 0.25, 0.25, 0.23, 0.62, 0.48, 0.41, 0.52, 0.46, 0.36, 0.27, 0.25, 0.23, 0.23, 0.21, 0.21, 0.73, 0.39, 0.37, 0.33, 0.31, 0.26, 0.26, 0.45, 0.4, 0.38, 0.38, 0.34, 0.33, 0.31, 0.28, 0.26, 0.25, 0.24, 0.21, 0.47, 0.43, 0.39, 0.35, 0.35, 0.33, 0.31, 0.31, 0.3, 0.28, 0.25, 0.25, 0.24, 0.22, 0.2, 0.18, 0.4, 0.4, 0.4, 0.38, 0.36, 0.35, 0.35, 0.32, 0.32, 0.3, 0.28, 0.27, 0.22, 0.17, 0.16, 0.14, 0.47, 0.41, 0.37, 0.35, 0.35, 0.35, 0.32, 0.3, 0.3, 0.28, 0.28, 0.28, 0.28, 0.27, 0.26, 0.25, 0.25, 0.24, 0.24, 0.24, 0.23, 0.22, 0.21, 0.21, 0.19, 0.19, 0.18, 0.18]}],\n",
       "                        {\"template\": {\"data\": {\"bar\": [{\"error_x\": {\"color\": \"#2a3f5f\"}, \"error_y\": {\"color\": \"#2a3f5f\"}, \"marker\": {\"line\": {\"color\": \"#E5ECF6\", \"width\": 0.5}}, \"type\": \"bar\"}], \"barpolar\": [{\"marker\": {\"line\": {\"color\": \"#E5ECF6\", \"width\": 0.5}}, \"type\": \"barpolar\"}], \"carpet\": [{\"aaxis\": {\"endlinecolor\": \"#2a3f5f\", \"gridcolor\": \"white\", \"linecolor\": \"white\", \"minorgridcolor\": \"white\", \"startlinecolor\": \"#2a3f5f\"}, \"baxis\": {\"endlinecolor\": \"#2a3f5f\", \"gridcolor\": \"white\", \"linecolor\": \"white\", \"minorgridcolor\": \"white\", \"startlinecolor\": \"#2a3f5f\"}, \"type\": \"carpet\"}], \"choropleth\": [{\"colorbar\": {\"outlinewidth\": 0, \"ticks\": \"\"}, \"type\": \"choropleth\"}], \"contour\": [{\"colorbar\": {\"outlinewidth\": 0, \"ticks\": \"\"}, \"colorscale\": [[0.0, \"#0d0887\"], [0.1111111111111111, \"#46039f\"], [0.2222222222222222, \"#7201a8\"], [0.3333333333333333, \"#9c179e\"], [0.4444444444444444, \"#bd3786\"], [0.5555555555555556, \"#d8576b\"], [0.6666666666666666, \"#ed7953\"], [0.7777777777777778, \"#fb9f3a\"], [0.8888888888888888, \"#fdca26\"], [1.0, \"#f0f921\"]], \"type\": \"contour\"}], \"contourcarpet\": [{\"colorbar\": {\"outlinewidth\": 0, \"ticks\": \"\"}, \"type\": \"contourcarpet\"}], \"heatmap\": [{\"colorbar\": {\"outlinewidth\": 0, \"ticks\": \"\"}, \"colorscale\": [[0.0, \"#0d0887\"], [0.1111111111111111, \"#46039f\"], [0.2222222222222222, \"#7201a8\"], [0.3333333333333333, \"#9c179e\"], [0.4444444444444444, \"#bd3786\"], [0.5555555555555556, \"#d8576b\"], [0.6666666666666666, \"#ed7953\"], [0.7777777777777778, \"#fb9f3a\"], [0.8888888888888888, \"#fdca26\"], [1.0, \"#f0f921\"]], \"type\": \"heatmap\"}], \"heatmapgl\": [{\"colorbar\": {\"outlinewidth\": 0, \"ticks\": \"\"}, \"colorscale\": [[0.0, \"#0d0887\"], [0.1111111111111111, \"#46039f\"], [0.2222222222222222, \"#7201a8\"], [0.3333333333333333, \"#9c179e\"], [0.4444444444444444, \"#bd3786\"], [0.5555555555555556, \"#d8576b\"], [0.6666666666666666, \"#ed7953\"], [0.7777777777777778, \"#fb9f3a\"], [0.8888888888888888, \"#fdca26\"], [1.0, \"#f0f921\"]], \"type\": \"heatmapgl\"}], \"histogram\": [{\"marker\": {\"colorbar\": {\"outlinewidth\": 0, \"ticks\": \"\"}}, \"type\": \"histogram\"}], \"histogram2d\": [{\"colorbar\": {\"outlinewidth\": 0, \"ticks\": \"\"}, \"colorscale\": [[0.0, \"#0d0887\"], [0.1111111111111111, \"#46039f\"], [0.2222222222222222, \"#7201a8\"], [0.3333333333333333, \"#9c179e\"], [0.4444444444444444, \"#bd3786\"], [0.5555555555555556, \"#d8576b\"], [0.6666666666666666, \"#ed7953\"], [0.7777777777777778, \"#fb9f3a\"], [0.8888888888888888, \"#fdca26\"], [1.0, \"#f0f921\"]], \"type\": \"histogram2d\"}], \"histogram2dcontour\": [{\"colorbar\": {\"outlinewidth\": 0, \"ticks\": \"\"}, \"colorscale\": [[0.0, \"#0d0887\"], [0.1111111111111111, \"#46039f\"], [0.2222222222222222, \"#7201a8\"], [0.3333333333333333, \"#9c179e\"], [0.4444444444444444, \"#bd3786\"], [0.5555555555555556, \"#d8576b\"], [0.6666666666666666, \"#ed7953\"], [0.7777777777777778, \"#fb9f3a\"], [0.8888888888888888, \"#fdca26\"], [1.0, \"#f0f921\"]], \"type\": \"histogram2dcontour\"}], \"mesh3d\": [{\"colorbar\": {\"outlinewidth\": 0, \"ticks\": \"\"}, \"type\": \"mesh3d\"}], \"parcoords\": [{\"line\": {\"colorbar\": {\"outlinewidth\": 0, \"ticks\": \"\"}}, \"type\": \"parcoords\"}], \"scatter\": [{\"marker\": {\"colorbar\": {\"outlinewidth\": 0, \"ticks\": \"\"}}, \"type\": \"scatter\"}], \"scatter3d\": [{\"line\": {\"colorbar\": {\"outlinewidth\": 0, \"ticks\": \"\"}}, \"marker\": {\"colorbar\": {\"outlinewidth\": 0, \"ticks\": \"\"}}, \"type\": \"scatter3d\"}], \"scattercarpet\": [{\"marker\": {\"colorbar\": {\"outlinewidth\": 0, \"ticks\": \"\"}}, \"type\": \"scattercarpet\"}], \"scattergeo\": [{\"marker\": {\"colorbar\": {\"outlinewidth\": 0, \"ticks\": \"\"}}, \"type\": \"scattergeo\"}], \"scattergl\": [{\"marker\": {\"colorbar\": {\"outlinewidth\": 0, \"ticks\": \"\"}}, \"type\": \"scattergl\"}], \"scattermapbox\": [{\"marker\": {\"colorbar\": {\"outlinewidth\": 0, \"ticks\": \"\"}}, \"type\": \"scattermapbox\"}], \"scatterpolar\": [{\"marker\": {\"colorbar\": {\"outlinewidth\": 0, \"ticks\": \"\"}}, \"type\": \"scatterpolar\"}], \"scatterpolargl\": [{\"marker\": {\"colorbar\": {\"outlinewidth\": 0, \"ticks\": \"\"}}, \"type\": \"scatterpolargl\"}], \"scatterternary\": [{\"marker\": {\"colorbar\": {\"outlinewidth\": 0, \"ticks\": \"\"}}, \"type\": \"scatterternary\"}], \"surface\": [{\"colorbar\": {\"outlinewidth\": 0, \"ticks\": \"\"}, \"colorscale\": [[0.0, \"#0d0887\"], [0.1111111111111111, \"#46039f\"], [0.2222222222222222, \"#7201a8\"], [0.3333333333333333, \"#9c179e\"], [0.4444444444444444, \"#bd3786\"], [0.5555555555555556, \"#d8576b\"], [0.6666666666666666, \"#ed7953\"], [0.7777777777777778, \"#fb9f3a\"], [0.8888888888888888, \"#fdca26\"], [1.0, \"#f0f921\"]], \"type\": \"surface\"}], \"table\": [{\"cells\": {\"fill\": {\"color\": \"#EBF0F8\"}, \"line\": {\"color\": \"white\"}}, \"header\": {\"fill\": {\"color\": \"#C8D4E3\"}, \"line\": {\"color\": \"white\"}}, \"type\": \"table\"}]}, \"layout\": {\"annotationdefaults\": {\"arrowcolor\": \"#2a3f5f\", \"arrowhead\": 0, \"arrowwidth\": 1}, \"colorscale\": {\"diverging\": [[0, \"#8e0152\"], [0.1, \"#c51b7d\"], [0.2, \"#de77ae\"], [0.3, \"#f1b6da\"], [0.4, \"#fde0ef\"], [0.5, \"#f7f7f7\"], [0.6, \"#e6f5d0\"], [0.7, \"#b8e186\"], [0.8, \"#7fbc41\"], [0.9, \"#4d9221\"], [1, \"#276419\"]], \"sequential\": [[0.0, \"#0d0887\"], [0.1111111111111111, \"#46039f\"], [0.2222222222222222, \"#7201a8\"], [0.3333333333333333, \"#9c179e\"], [0.4444444444444444, \"#bd3786\"], [0.5555555555555556, \"#d8576b\"], [0.6666666666666666, \"#ed7953\"], [0.7777777777777778, \"#fb9f3a\"], [0.8888888888888888, \"#fdca26\"], [1.0, \"#f0f921\"]], \"sequentialminus\": [[0.0, \"#0d0887\"], [0.1111111111111111, \"#46039f\"], [0.2222222222222222, \"#7201a8\"], [0.3333333333333333, \"#9c179e\"], [0.4444444444444444, \"#bd3786\"], [0.5555555555555556, \"#d8576b\"], [0.6666666666666666, \"#ed7953\"], [0.7777777777777778, \"#fb9f3a\"], [0.8888888888888888, \"#fdca26\"], [1.0, \"#f0f921\"]]}, \"colorway\": [\"#636efa\", \"#EF553B\", \"#00cc96\", \"#ab63fa\", \"#FFA15A\", \"#19d3f3\", \"#FF6692\", \"#B6E880\", \"#FF97FF\", \"#FECB52\"], \"font\": {\"color\": \"#2a3f5f\"}, \"geo\": {\"bgcolor\": \"white\", \"lakecolor\": \"white\", \"landcolor\": \"#E5ECF6\", \"showlakes\": true, \"showland\": true, \"subunitcolor\": \"white\"}, \"hoverlabel\": {\"align\": \"left\"}, \"hovermode\": \"closest\", \"mapbox\": {\"style\": \"light\"}, \"paper_bgcolor\": \"white\", \"plot_bgcolor\": \"#E5ECF6\", \"polar\": {\"angularaxis\": {\"gridcolor\": \"white\", \"linecolor\": \"white\", \"ticks\": \"\"}, \"bgcolor\": \"#E5ECF6\", \"radialaxis\": {\"gridcolor\": \"white\", \"linecolor\": \"white\", \"ticks\": \"\"}}, \"scene\": {\"xaxis\": {\"backgroundcolor\": \"#E5ECF6\", \"gridcolor\": \"white\", \"gridwidth\": 2, \"linecolor\": \"white\", \"showbackground\": true, \"ticks\": \"\", \"zerolinecolor\": \"white\"}, \"yaxis\": {\"backgroundcolor\": \"#E5ECF6\", \"gridcolor\": \"white\", \"gridwidth\": 2, \"linecolor\": \"white\", \"showbackground\": true, \"ticks\": \"\", \"zerolinecolor\": \"white\"}, \"zaxis\": {\"backgroundcolor\": \"#E5ECF6\", \"gridcolor\": \"white\", \"gridwidth\": 2, \"linecolor\": \"white\", \"showbackground\": true, \"ticks\": \"\", \"zerolinecolor\": \"white\"}}, \"shapedefaults\": {\"line\": {\"color\": \"#2a3f5f\"}}, \"ternary\": {\"aaxis\": {\"gridcolor\": \"white\", \"linecolor\": \"white\", \"ticks\": \"\"}, \"baxis\": {\"gridcolor\": \"white\", \"linecolor\": \"white\", \"ticks\": \"\"}, \"bgcolor\": \"#E5ECF6\", \"caxis\": {\"gridcolor\": \"white\", \"linecolor\": \"white\", \"ticks\": \"\"}}, \"title\": {\"x\": 0.05}, \"xaxis\": {\"automargin\": true, \"gridcolor\": \"white\", \"linecolor\": \"white\", \"ticks\": \"\", \"zerolinecolor\": \"white\", \"zerolinewidth\": 2}, \"yaxis\": {\"automargin\": true, \"gridcolor\": \"white\", \"linecolor\": \"white\", \"ticks\": \"\", \"zerolinecolor\": \"white\", \"zerolinewidth\": 2}}}, \"title\": {\"text\": \"Billboard #1 Songs in terms of Popularity & Relevance\", \"x\": 0.5, \"xanchor\": \"center\", \"y\": 0.9, \"yanchor\": \"top\"}, \"xaxis\": {\"tickangle\": 45, \"title\": {\"text\": \"Song\"}}, \"yaxis\": {\"title\": {\"text\": \"Popularity\"}}},\n",
       "                        {\"responsive\": true}\n",
       "                    ).then(function(){\n",
       "                            \n",
       "var gd = document.getElementById('48d1dd7b-323a-4803-94ae-af727b9b6318');\n",
       "var x = new MutationObserver(function (mutations, observer) {{\n",
       "        var display = window.getComputedStyle(gd).display;\n",
       "        if (!display || display === 'none') {{\n",
       "            console.log([gd, 'removed!']);\n",
       "            Plotly.purge(gd);\n",
       "            observer.disconnect();\n",
       "        }}\n",
       "}});\n",
       "\n",
       "// Listen for the removal of the full notebook cells\n",
       "var notebookContainer = gd.closest('#notebook-container');\n",
       "if (notebookContainer) {{\n",
       "    x.observe(notebookContainer, {childList: true});\n",
       "}}\n",
       "\n",
       "// Listen for the clearing of the current output cell\n",
       "var outputEl = gd.closest('.output');\n",
       "if (outputEl) {{\n",
       "    x.observe(outputEl, {childList: true});\n",
       "}}\n",
       "\n",
       "                        })\n",
       "                };\n",
       "                });\n",
       "            </script>\n",
       "        </div>"
      ]
     },
     "metadata": {},
     "output_type": "display_data"
    }
   ],
   "source": [
    "# create bubble chart\n",
    "# stackoverflow link: https://plot.ly/python/bubble-charts/\n",
    "# plotly colorscale: https://plot.ly/python/v3/matplotlib-colorscales/\n",
    "fig = go.Figure()\n",
    "\n",
    "fig.add_trace(go.Scatter(\n",
    "    x=bboard_song_pop_relevance_top100['Song'],\n",
    "    y=bboard_song_pop_relevance_top100['Popularity'],\n",
    "    mode='markers',\n",
    "    marker=dict(\n",
    "        size=16,\n",
    "        cmax=1,\n",
    "        cmin=0,\n",
    "        color=bboard_song_pop_relevance_top100['Popularity'],\n",
    "        colorbar=dict(\n",
    "            title=\"Colorbar\"\n",
    "        ),\n",
    "        colorscale=\"magma\"\n",
    "    ),\n",
    "    marker_size=bboard_song_pop_relevance_top100['Relevance (Total Weeks on Chart)'],\n",
    "    text=bboard_song_pop_relevance_top100['Performer'],\n",
    "    hovertemplate = \"<b>%{x}</b><br><i>%{text}</i><br><br>Popularity: %{y}<br>Relevance: %{marker.size}\",\n",
    "))\n",
    "\n",
    "fig.update_layout(\n",
    "    title={\n",
    "        'text': \"Billboard #1 Songs in terms of Popularity & Relevance\",\n",
    "        'y':0.9,\n",
    "        'x':0.5,\n",
    "        'xanchor': 'center',\n",
    "        'yanchor': 'top'})\n",
    "fig.update_xaxes(title_text='Song')\n",
    "fig.update_xaxes(tickangle=45)\n",
    "fig.update_yaxes(title_text='Popularity')\n",
    "\n",
    "fig.show()"
   ]
  },
  {
   "cell_type": "markdown",
   "metadata": {},
   "source": [
    "#### Song Performance as a measure of how long the song remained in its peak position"
   ]
  },
  {
   "cell_type": "markdown",
   "metadata": {},
   "source": [
    "#### Song Performance as a measure of velocity (how fast the song climbed to its peak position)"
   ]
  },
  {
   "cell_type": "markdown",
   "metadata": {},
   "source": [
    "#### Song Performance as other streaming mediums are introduced (ex. YouTube)"
   ]
  },
  {
   "cell_type": "code",
   "execution_count": null,
   "metadata": {
    "collapsed": true
   },
   "outputs": [],
   "source": []
  }
 ],
 "metadata": {
  "kernelspec": {
   "display_name": "Python 3",
   "language": "python",
   "name": "python3"
  },
  "language_info": {
   "codemirror_mode": {
    "name": "ipython",
    "version": 3
   },
   "file_extension": ".py",
   "mimetype": "text/x-python",
   "name": "python",
   "nbconvert_exporter": "python",
   "pygments_lexer": "ipython3",
   "version": "3.6.1"
  }
 },
 "nbformat": 4,
 "nbformat_minor": 0
}
