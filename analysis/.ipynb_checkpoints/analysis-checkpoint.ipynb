{
 "cells": [
  {
   "cell_type": "markdown",
   "metadata": {},
   "source": [
    "# Billboard Top 100 Charts Analysis\n",
    "\n",
    "Frank Chen"
   ]
  },
  {
   "cell_type": "code",
   "execution_count": 29,
   "metadata": {
    "collapsed": false
   },
   "outputs": [],
   "source": [
    "# import all libraries\n",
    "import pandas as pd\n",
    "import numpy as np\n",
    "\n",
    "# standard plotly imports\n",
    "import plotly.graph_objects as go"
   ]
  },
  {
   "cell_type": "code",
   "execution_count": 73,
   "metadata": {
    "collapsed": false
   },
   "outputs": [],
   "source": [
    "# load data\n",
    "bboard_data = pd.read_csv('../raw_data/hot_100.csv')"
   ]
  },
  {
   "cell_type": "code",
   "execution_count": 74,
   "metadata": {
    "collapsed": false,
    "scrolled": false
   },
   "outputs": [
    {
     "data": {
      "text/html": [
       "<div>\n",
       "<style scoped>\n",
       "    .dataframe tbody tr th:only-of-type {\n",
       "        vertical-align: middle;\n",
       "    }\n",
       "\n",
       "    .dataframe tbody tr th {\n",
       "        vertical-align: top;\n",
       "    }\n",
       "\n",
       "    .dataframe thead th {\n",
       "        text-align: right;\n",
       "    }\n",
       "</style>\n",
       "<table border=\"1\" class=\"dataframe\">\n",
       "  <thead>\n",
       "    <tr style=\"text-align: right;\">\n",
       "      <th></th>\n",
       "      <th>url</th>\n",
       "      <th>WeekID</th>\n",
       "      <th>Week Position</th>\n",
       "      <th>Song</th>\n",
       "      <th>Performer</th>\n",
       "      <th>SongID</th>\n",
       "      <th>Instance</th>\n",
       "      <th>Previous Week Position</th>\n",
       "      <th>Peak Position</th>\n",
       "      <th>Weeks on Chart</th>\n",
       "    </tr>\n",
       "  </thead>\n",
       "  <tbody>\n",
       "    <tr>\n",
       "      <th>317790</th>\n",
       "      <td>http://www.billboard.com/charts/hot-100/1960-0...</td>\n",
       "      <td>7/2/1960</td>\n",
       "      <td>6</td>\n",
       "      <td>That's All You Gotta Do</td>\n",
       "      <td>Brenda Lee</td>\n",
       "      <td>That's All You Gotta DoBrenda Lee</td>\n",
       "      <td>1</td>\n",
       "      <td>17.0</td>\n",
       "      <td>6</td>\n",
       "      <td>5</td>\n",
       "    </tr>\n",
       "    <tr>\n",
       "      <th>317791</th>\n",
       "      <td>http://www.billboard.com/charts/hot-100/1968-0...</td>\n",
       "      <td>2/24/1968</td>\n",
       "      <td>6</td>\n",
       "      <td>Simon Says</td>\n",
       "      <td>1910 Fruitgum Co.</td>\n",
       "      <td>Simon Says1910 Fruitgum Co.</td>\n",
       "      <td>1</td>\n",
       "      <td>17.0</td>\n",
       "      <td>6</td>\n",
       "      <td>5</td>\n",
       "    </tr>\n",
       "    <tr>\n",
       "      <th>317792</th>\n",
       "      <td>http://www.billboard.com/charts/hot-100/1971-0...</td>\n",
       "      <td>3/6/1971</td>\n",
       "      <td>6</td>\n",
       "      <td>She's A Lady</td>\n",
       "      <td>Tom Jones</td>\n",
       "      <td>She's A LadyTom Jones</td>\n",
       "      <td>1</td>\n",
       "      <td>17.0</td>\n",
       "      <td>6</td>\n",
       "      <td>5</td>\n",
       "    </tr>\n",
       "    <tr>\n",
       "      <th>317793</th>\n",
       "      <td>http://www.billboard.com/charts/hot-100/1979-0...</td>\n",
       "      <td>6/9/1979</td>\n",
       "      <td>6</td>\n",
       "      <td>Ring My Bell</td>\n",
       "      <td>Anita Ward</td>\n",
       "      <td>Ring My BellAnita Ward</td>\n",
       "      <td>1</td>\n",
       "      <td>19.0</td>\n",
       "      <td>6</td>\n",
       "      <td>5</td>\n",
       "    </tr>\n",
       "    <tr>\n",
       "      <th>317794</th>\n",
       "      <td>http://www.billboard.com/charts/hot-100/1967-0...</td>\n",
       "      <td>6/24/1967</td>\n",
       "      <td>6</td>\n",
       "      <td>San Francisco (Be Sure To Wear Flowers In Your...</td>\n",
       "      <td>Scott McKenzie</td>\n",
       "      <td>San Francisco (Be Sure To Wear Flowers In Your...</td>\n",
       "      <td>1</td>\n",
       "      <td>20.0</td>\n",
       "      <td>6</td>\n",
       "      <td>5</td>\n",
       "    </tr>\n",
       "  </tbody>\n",
       "</table>\n",
       "</div>"
      ],
      "text/plain": [
       "                                                      url     WeekID  \\\n",
       "317790  http://www.billboard.com/charts/hot-100/1960-0...   7/2/1960   \n",
       "317791  http://www.billboard.com/charts/hot-100/1968-0...  2/24/1968   \n",
       "317792  http://www.billboard.com/charts/hot-100/1971-0...   3/6/1971   \n",
       "317793  http://www.billboard.com/charts/hot-100/1979-0...   6/9/1979   \n",
       "317794  http://www.billboard.com/charts/hot-100/1967-0...  6/24/1967   \n",
       "\n",
       "        Week Position                                               Song  \\\n",
       "317790              6                            That's All You Gotta Do   \n",
       "317791              6                                         Simon Says   \n",
       "317792              6                                       She's A Lady   \n",
       "317793              6                                       Ring My Bell   \n",
       "317794              6  San Francisco (Be Sure To Wear Flowers In Your...   \n",
       "\n",
       "                Performer                                             SongID  \\\n",
       "317790         Brenda Lee                  That's All You Gotta DoBrenda Lee   \n",
       "317791  1910 Fruitgum Co.                        Simon Says1910 Fruitgum Co.   \n",
       "317792          Tom Jones                              She's A LadyTom Jones   \n",
       "317793         Anita Ward                             Ring My BellAnita Ward   \n",
       "317794     Scott McKenzie  San Francisco (Be Sure To Wear Flowers In Your...   \n",
       "\n",
       "        Instance  Previous Week Position  Peak Position  Weeks on Chart  \n",
       "317790         1                    17.0              6               5  \n",
       "317791         1                    17.0              6               5  \n",
       "317792         1                    17.0              6               5  \n",
       "317793         1                    19.0              6               5  \n",
       "317794         1                    20.0              6               5  "
      ]
     },
     "execution_count": 74,
     "metadata": {},
     "output_type": "execute_result"
    }
   ],
   "source": [
    "bboard_data.tail()"
   ]
  },
  {
   "cell_type": "markdown",
   "metadata": {},
   "source": [
    "# Initial Data Cleaning"
   ]
  },
  {
   "cell_type": "markdown",
   "metadata": {},
   "source": [
    "First thing to do is separate the `WeekID` field into `month`, `day`, `year` for easier analysis in the future"
   ]
  },
  {
   "cell_type": "code",
   "execution_count": 75,
   "metadata": {
    "collapsed": true
   },
   "outputs": [],
   "source": [
    "bboard_data['WeekID'] = pd.to_datetime(bboard_data['WeekID'], format='%m/%d/%Y')"
   ]
  },
  {
   "cell_type": "code",
   "execution_count": 76,
   "metadata": {
    "collapsed": false
   },
   "outputs": [],
   "source": [
    "bboard_data['year'] = bboard_data['WeekID'].dt.year\n",
    "bboard_data['month'] = bboard_data['WeekID'].dt.month\n",
    "bboard_data['day'] = bboard_data['WeekID'].dt.day\n",
    "bboard_data.to_csv('tmp_data/cleaned_bboard_data.csv')"
   ]
  },
  {
   "cell_type": "markdown",
   "metadata": {},
   "source": [
    "# Analysis\n",
    "\n",
    "We will first focus our analysis on the Billboard Leading Hot no. 1 songs.\n",
    "\n",
    "### I. Analysis of Songs in terms of Popularity and Relevance"
   ]
  },
  {
   "cell_type": "markdown",
   "metadata": {
    "collapsed": true
   },
   "source": [
    "This dataset provides potential for rich analysis into both the popularity **and** relevance of no. 1 songs on the Billboard charts. We define the two terms below:\n",
    "\n",
    "**Popularity**: how long the song stayed at no. 1 given all the weeks the song stayed on the chart. We represent this as the percentage of no. 1 counts over the total number of weeks the song spent on chart.\n",
    "\n",
    "**Relevance**: how long the song stayed in the Billboard charts. We represent this as the total number of weeks the song spent on the chart.\n",
    "\n",
    "I will be preparing a chart that represents 3 dimensions of data: x-axis will show the songs, y-axis will show the popularity percentage of that song, and the data point itself will be an area measuring the relevance of the song. "
   ]
  },
  {
   "cell_type": "markdown",
   "metadata": {},
   "source": [
    "#### Step 1: Data Preparation"
   ]
  },
  {
   "cell_type": "code",
   "execution_count": 22,
   "metadata": {
    "collapsed": true
   },
   "outputs": [],
   "source": [
    "bboard_data = pd.read_csv('tmp_data/cleaned_bboard_data.csv')"
   ]
  },
  {
   "cell_type": "code",
   "execution_count": 78,
   "metadata": {
    "collapsed": false
   },
   "outputs": [],
   "source": [
    "# use pivot table to extract counts of week positions for each song\n",
    "# stackoverflow link: https://stackoverflow.com/questions/54527134/counting-column-values-based-on-values-in-other-columns-for-pandas-dataframes\n",
    "bboard_data['count'] = 1\n",
    "result = bboard_data.pivot_table(\n",
    "    index=['Song'], columns='Week Position', values='count',\n",
    "    fill_value=0, aggfunc=np.sum\n",
    ")\n",
    "# save result to csv for future use\n",
    "result.to_csv('tmp_data/bboard_song_position_count.csv')"
   ]
  },
  {
   "cell_type": "code",
   "execution_count": 80,
   "metadata": {
    "collapsed": false
   },
   "outputs": [],
   "source": [
    "# read song_position_count.csv\n",
    "song_position_count = pd.read_csv(\"tmp_data/bboard_song_position_count.csv\")"
   ]
  },
  {
   "cell_type": "code",
   "execution_count": 81,
   "metadata": {
    "collapsed": false
   },
   "outputs": [],
   "source": [
    "# keep only the song and no. 1 column\n",
    "song_position_count = song_position_count[['Song','1']]\n",
    "song_position_count.to_csv('tmp_data/bboard_song_no1_count.csv')"
   ]
  },
  {
   "cell_type": "code",
   "execution_count": 82,
   "metadata": {
    "collapsed": false
   },
   "outputs": [],
   "source": [
    "# join song_no1_count with bboard_data\n",
    "song_no1_count = pd.read_csv('tmp_data/bboard_song_no1_count.csv')\n",
    "bboard_data = pd.merge(bboard_data, song_no1_count, how='left', left_on='Song', right_on='Song')"
   ]
  },
  {
   "cell_type": "code",
   "execution_count": 83,
   "metadata": {
    "collapsed": false
   },
   "outputs": [],
   "source": [
    "# remove irrelevant columns\n",
    "# stackoverflow link: https://stackoverflow.com/questions/14940743/selecting-excluding-sets-of-columns-in-pandas\n",
    "bboard_data = bboard_data.drop(['Unnamed: 0_x', 'Unnamed: 0_y'], axis=1)"
   ]
  },
  {
   "cell_type": "code",
   "execution_count": 84,
   "metadata": {
    "collapsed": false
   },
   "outputs": [],
   "source": [
    "# clean rows to keep only entry for total weeks on chart\n",
    "# stackoverflow link: https://stackoverflow.com/questions/50283775/python-pandas-keep-row-with-highest-column-value\n",
    "bboard_data_tmp = bboard_data.sort_values('Weeks on Chart').drop_duplicates([\"Song\"],keep='last')"
   ]
  },
  {
   "cell_type": "code",
   "execution_count": 85,
   "metadata": {
    "collapsed": true
   },
   "outputs": [],
   "source": [
    "# clean columns to keep only data needed for visualization\n",
    "bboard_data_tmp = bboard_data_tmp[['Song', 'Performer', 'Weeks on Chart', '1', 'year']]"
   ]
  },
  {
   "cell_type": "code",
   "execution_count": 86,
   "metadata": {
    "collapsed": false
   },
   "outputs": [],
   "source": [
    "# rename column values\n",
    "# stackoverflow link: https://stackoverflow.com/questions/11346283/renaming-columns-in-pandas\n",
    "bboard_data_tmp.columns = ['Song', 'Performer', 'Relevance (Total Weeks on Chart)', 'Count of no. 1', 'Year']\n",
    "# calculate popularity\n",
    "# stackoverflow link: https://stackoverflow.com/questions/26133538/round-a-single-column-in-pandas\n",
    "bboard_data_tmp['Popularity'] = bboard_data_tmp['Count of no. 1']/bboard_data_tmp['Relevance (Total Weeks on Chart)']\n",
    "bboard_data_tmp['Popularity'] = bboard_data_tmp['Popularity'].round(2)"
   ]
  },
  {
   "cell_type": "code",
   "execution_count": 87,
   "metadata": {
    "collapsed": false,
    "scrolled": true
   },
   "outputs": [],
   "source": [
    "bboard_data_tmp['Performer'] = bboard_data_tmp.Performer.map(str) + \" (\" + bboard_data_tmp.Year.map(str) + \")\""
   ]
  },
  {
   "cell_type": "code",
   "execution_count": 88,
   "metadata": {
    "collapsed": true
   },
   "outputs": [],
   "source": [
    "# save to csv for future analysis\n",
    "bboard_data_tmp.to_csv('tmp_data/bboard_song_pop_relevance.csv')"
   ]
  },
  {
   "cell_type": "markdown",
   "metadata": {},
   "source": [
    "#### Step 2: Data Visualization"
   ]
  },
  {
   "cell_type": "code",
   "execution_count": 78,
   "metadata": {
    "collapsed": false
   },
   "outputs": [],
   "source": [
    "# read in the data\n",
    "bboard_song_pop_relevance = pd.read_csv('tmp_data/bboard_song_pop_relevance.csv')\n",
    "bboard_song_pop_relevance = bboard_song_pop_relevance.drop(['Unnamed: 0'], axis=1)"
   ]
  },
  {
   "cell_type": "code",
   "execution_count": 91,
   "metadata": {
    "collapsed": false
   },
   "outputs": [],
   "source": [
    "# only use the top 100 songs that spent the most weeks on no. 1\n",
    "bboard_song_pop_relevance_top100 = bboard_song_pop_relevance.nlargest(100, 'Count of no. 1')\n",
    "bboard_song_pop_relevance_top100.to_csv('tmp_data/bboard_song_pop_relevance_top100.csv')\n",
    "bboard_song_pop_relevance_top100 = bboard_song_pop_relevance_top100.sort_values(by=['Year'])"
   ]
  },
  {
   "cell_type": "code",
   "execution_count": 137,
   "metadata": {
    "collapsed": false,
    "scrolled": false
   },
   "outputs": [
    {
     "data": {
      "application/vnd.plotly.v1+json": {
       "config": {
        "plotlyServerURL": "https://plot.ly"
       },
       "data": [
        {
         "hovertemplate": "<b>%{x}</b><br><i>%{text}</i><br><br>Popularity: %{y}<br>Relevance: %{marker.size}",
         "marker": {
          "cmax": 1,
          "cmin": 0,
          "color": [
           0.35,
           0.43,
           0.3,
           0.47,
           0.41,
           0.47,
           0.25,
           0.35,
           0.28,
           0.4,
           0.4,
           0.35,
           0.35,
           0.37,
           0.38,
           0.33,
           0.36,
           0.62,
           0.32,
           0.28,
           0.35,
           0.24,
           0.28,
           0.41,
           0.35,
           0.37,
           0.28,
           0.24,
           0.42,
           0.27,
           0.32,
           0.4,
           0.59,
           0.21,
           0.26,
           0.23,
           0.33,
           0.4,
           0.33,
           0.48,
           0.38,
           0.21,
           0.35,
           0.39,
           0.27,
           0.31,
           0.22,
           0.52,
           0.3,
           0.3,
           0.34,
           0.28,
           0.31,
           0.27,
           0.25,
           0.18,
           0.39,
           0.26,
           0.33,
           0.19,
           0.21,
           0.31,
           0.33,
           0.16,
           0.3,
           0.22,
           0.25,
           0.23,
           0.36,
           0.25,
           0.24,
           0.24,
           0.48,
           0.24,
           0.14,
           0.26,
           0.18,
           0.25,
           0.28,
           0.18,
           0.22,
           0.2,
           0.21,
           0.19,
           0.17,
           0.25,
           0.46,
           0.25,
           0.28,
           0.23,
           0.23,
           0.26,
           0.32,
           0.45,
           0.31,
           0.31,
           0.21,
           0.38,
           0.25,
           0.73
          ],
          "colorbar": {
           "title": {
            "text": "Colorbar"
           }
          },
          "colorscale": [
           [
            0,
            "#000004"
           ],
           [
            0.1111111111111111,
            "#180f3d"
           ],
           [
            0.2222222222222222,
            "#440f76"
           ],
           [
            0.3333333333333333,
            "#721f81"
           ],
           [
            0.4444444444444444,
            "#9e2f7f"
           ],
           [
            0.5555555555555556,
            "#cd4071"
           ],
           [
            0.6666666666666666,
            "#f1605d"
           ],
           [
            0.7777777777777778,
            "#fd9668"
           ],
           [
            0.8888888888888888,
            "#feca8d"
           ],
           [
            1,
            "#fcfdbf"
           ]
          ],
          "size": [
           26,
           21,
           23,
           15,
           17,
           19,
           28,
           23,
           25,
           20,
           25,
           26,
           20,
           19,
           26,
           27,
           22,
           21,
           22,
           25,
           20,
           29,
           25,
           32,
           23,
           30,
           29,
           29,
           33,
           30,
           25,
           20,
           27,
           34,
           42,
           60,
           42,
           20,
           33,
           27,
           26,
           58,
           20,
           28,
           26,
           32,
           41,
           23,
           27,
           30,
           29,
           32,
           29,
           45,
           36,
           38,
           23,
           39,
           43,
           36,
           33,
           29,
           30,
           49,
           23,
           32,
           40,
           31,
           33,
           56,
           38,
           29,
           29,
           41,
           59,
           42,
           50,
           48,
           25,
           39,
           36,
           44,
           47,
           36,
           47,
           36,
           26,
           56,
           36,
           52,
           52,
           27,
           25,
           22,
           51,
           36,
           58,
           21,
           28,
           15
          ]
         },
         "mode": "markers",
         "text": [
          "Bobby Darin (1960)",
          "Percy Faith And His Orchestra (1960)",
          "Bobby Lewis (1961)",
          "The Beatles (1964)",
          "Gladys Knight And The Pips (1968)",
          "The Beatles (1969)",
          "Frankie Avalon (1976)",
          "Rod Stewart (1977)",
          "Andy Gibb (1978)",
          "Bee Gees (1978)",
          "Debby Boone (1978)",
          "Kim Carnes (1981)",
          "Joan Jett & the Blackhearts (1982)",
          "Paul McCartney And Stevie Wonder (1982)",
          "Olivia Newton-John (1982)",
          "Diana Ross & Lionel Richie (1982)",
          "The Police (1983)",
          "Van Halen (1984)",
          "Bryan Adams (1991)",
          "The Escape Club (1991)",
          "Michael Jackson (1992)",
          "UB40 (1993)",
          "Snow (1993)",
          "Boyz II Men (1993)",
          "Janet Jackson (1993)",
          "All-4-One (1994)",
          "Mariah Carey (1994)",
          "Montell Jordan (1995)",
          "Boyz II Men (1995)",
          "Madonna (1995)",
          "Mariah Carey (1996)",
          "Bone Thugs-N-Harmony (1996)",
          "Mariah Carey & Boyz II Men (1996)",
          "TLC (1996)",
          "Toni Braxton (1997)",
          "Los Del Rio (1997)",
          "Elton John (1998)",
          "Mariah Carey (1998)",
          "Puff Daddy & Faith Evans Featuring 112 (1998)",
          "Brandy & Monica (1998)",
          "Santana Featuring The Product G&B (2000)",
          "Santana Featuring Rob Thomas (2000)",
          "Smash Mouth (2001)",
          "Destiny's Child (2001)",
          "Nelly (2002)",
          "Ashanti (2002)",
          "Mary J. Blige (2002)",
          "Eminem (2003)",
          "Beyonce Featuring Jay Z (2003)",
          "50 Cent (2003)",
          "Nelly Featuring Kelly Rowland (2003)",
          "OutKast (2004)",
          "Beyonce Featuring Sean Paul (2004)",
          "Usher Featuring Lil Jon & Ludacris (2004)",
          "Mario (2005)",
          "Ciara Featuring Petey Pablo (2005)",
          "50 Cent Featuring Olivia (2005)",
          "Kanye West Featuring Jamie Foxx (2006)",
          "Mariah Carey (2006)",
          "Justin Timberlake (2007)",
          "Rihanna Featuring Jay-Z (2007)",
          "Justin Timberlake Featuring T.I. (2007)",
          "Beyonce (2007)",
          "Nickelback (2008)",
          "Katy Perry (2008)",
          "Soulja Boy Tell'em (2008)",
          "Flo Rida Featuring T-Pain (2008)",
          "T.I. (2009)",
          "The Black Eyed Peas (2009)",
          "The Black Eyed Peas (2010)",
          "Ke$ha (2010)",
          "Eminem Featuring Rihanna (2011)",
          "Whitney Houston (2012)",
          "Rihanna Featuring Calvin Harris (2012)",
          "Gotye Featuring Kimbra (2013)",
          "Maroon 5 (2013)",
          "Carly Rae Jepsen (2013)",
          "Robin Thicke Featuring T.I. + Pharrell (2014)",
          "Michael Jackson (2014)",
          "Iggy Azalea Featuring Charli XCX (2014)",
          "Ellie Goulding (2014)",
          "Lorde (2014)",
          "Pharrell Williams (2014)",
          "Taylor Swift (2015)",
          "Meghan Trainor (2015)",
          "Rihanna Featuring Drake (2016)",
          "Adele (2016)",
          "Mark Ronson Featuring Bruno Mars (2016)",
          "Drake Featuring WizKid & Kyla (2016)",
          "Wiz Khalifa Featuring Charlie Puth (2016)",
          "The Chainsmokers Featuring Halsey (2017)",
          "Rae Sremmurd Featuring Gucci Mane (2017)",
          "Drake (2018)",
          "Drake (2018)",
          "Luis Fonsi & Daddy Yankee Featuring Justin Bieber (2018)",
          "Drake (2018)",
          "Ed Sheeran (2018)",
          "Ariana Grande (2019)",
          "Ariana Grande (2019)",
          "Lil Nas X Featuring Billy Ray Cyrus (2019)"
         ],
         "type": "scatter",
         "x": [
          "Mack The Knife",
          "The Theme From \"A Summer Place\"",
          "Tossin' And Turnin'",
          "I Want To Hold Your Hand",
          "I Heard It Through The Grapevine",
          "Hey Jude",
          "Venus",
          "Tonight's The Night (Gonna Be Alright)",
          "Shadow Dancing",
          "Night Fever",
          "You Light Up My Life",
          "Bette Davis Eyes",
          "I Love Rock 'N Roll",
          "Ebony And Ivory",
          "Physical",
          "Endless Love",
          "Every Breath You Take",
          "Jump",
          "(Everything I Do) I Do It For You",
          "I'll Be There",
          "Black Or White",
          "Can't Help Falling In Love (From \"Sliver\")",
          "Informer",
          "End Of The Road (From \"Boomerang\")",
          "That's The Way Love Goes",
          "I Swear",
          "Dreamlover",
          "This Is How We Do It",
          "I'll Make Love To You",
          "Take A Bow",
          "Fantasy",
          "Tha Crossroads",
          "One Sweet Day",
          "Waterfalls",
          "Un-Break My Heart",
          "Macarena (Bayside Boys Mix)",
          "Candle In The Wind 1997/Something About The Way You Look Tonight",
          "Honey",
          "I'll Be Missing You",
          "The Boy Is Mine",
          "Maria Maria",
          "Smooth",
          "I'm A Believer",
          "Independent Women Part I",
          "Hot In Herre",
          "Foolish",
          "Family Affair",
          "Lose Yourself",
          "Crazy In Love",
          "In Da Club",
          "Dilemma",
          "Hey Ya!",
          "Baby Boy",
          "Yeah!",
          "Let Me Love You",
          "Goodies",
          "Candy Shop",
          "Gold Digger",
          "We Belong Together",
          "SexyBack",
          "Umbrella",
          "My Love",
          "Irreplaceable",
          "Rockstar",
          "I Kissed A Girl",
          "Crank That (Soulja Boy)",
          "Low",
          "Whatever You Like",
          "Boom Boom Pow",
          "I Gotta Feeling",
          "TiK ToK",
          "Love The Way You Lie",
          "I Will Always Love You",
          "We Found Love",
          "Somebody That I Used To Know",
          "One More Night",
          "Call Me Maybe",
          "Blurred Lines",
          "Billie Jean",
          "Fancy",
          "Burn",
          "Royals",
          "Happy",
          "Blank Space",
          "All About That Bass",
          "Work",
          "Hello",
          "Uptown Funk!",
          "One Dance",
          "See You Again",
          "Closer",
          "Black Beatles",
          "Nice For What",
          "In My Feelings",
          "Despacito",
          "God's Plan",
          "Shape Of You",
          "7 Rings",
          "Thank U, Next",
          "Old Town Road"
         ],
         "y": [
          0.35,
          0.43,
          0.3,
          0.47,
          0.41,
          0.47,
          0.25,
          0.35,
          0.28,
          0.4,
          0.4,
          0.35,
          0.35,
          0.37,
          0.38,
          0.33,
          0.36,
          0.62,
          0.32,
          0.28,
          0.35,
          0.24,
          0.28,
          0.41,
          0.35,
          0.37,
          0.28,
          0.24,
          0.42,
          0.27,
          0.32,
          0.4,
          0.59,
          0.21,
          0.26,
          0.23,
          0.33,
          0.4,
          0.33,
          0.48,
          0.38,
          0.21,
          0.35,
          0.39,
          0.27,
          0.31,
          0.22,
          0.52,
          0.3,
          0.3,
          0.34,
          0.28,
          0.31,
          0.27,
          0.25,
          0.18,
          0.39,
          0.26,
          0.33,
          0.19,
          0.21,
          0.31,
          0.33,
          0.16,
          0.3,
          0.22,
          0.25,
          0.23,
          0.36,
          0.25,
          0.24,
          0.24,
          0.48,
          0.24,
          0.14,
          0.26,
          0.18,
          0.25,
          0.28,
          0.18,
          0.22,
          0.2,
          0.21,
          0.19,
          0.17,
          0.25,
          0.46,
          0.25,
          0.28,
          0.23,
          0.23,
          0.26,
          0.32,
          0.45,
          0.31,
          0.31,
          0.21,
          0.38,
          0.25,
          0.73
         ]
        }
       ],
       "layout": {
        "autosize": false,
        "height": 800,
        "margin": {
         "b": 300,
         "l": 50,
         "pad": 4,
         "r": 50,
         "t": 100
        },
        "template": {
         "data": {
          "bar": [
           {
            "error_x": {
             "color": "#2a3f5f"
            },
            "error_y": {
             "color": "#2a3f5f"
            },
            "marker": {
             "line": {
              "color": "#E5ECF6",
              "width": 0.5
             }
            },
            "type": "bar"
           }
          ],
          "barpolar": [
           {
            "marker": {
             "line": {
              "color": "#E5ECF6",
              "width": 0.5
             }
            },
            "type": "barpolar"
           }
          ],
          "carpet": [
           {
            "aaxis": {
             "endlinecolor": "#2a3f5f",
             "gridcolor": "white",
             "linecolor": "white",
             "minorgridcolor": "white",
             "startlinecolor": "#2a3f5f"
            },
            "baxis": {
             "endlinecolor": "#2a3f5f",
             "gridcolor": "white",
             "linecolor": "white",
             "minorgridcolor": "white",
             "startlinecolor": "#2a3f5f"
            },
            "type": "carpet"
           }
          ],
          "choropleth": [
           {
            "colorbar": {
             "outlinewidth": 0,
             "ticks": ""
            },
            "type": "choropleth"
           }
          ],
          "contour": [
           {
            "colorbar": {
             "outlinewidth": 0,
             "ticks": ""
            },
            "colorscale": [
             [
              0,
              "#0d0887"
             ],
             [
              0.1111111111111111,
              "#46039f"
             ],
             [
              0.2222222222222222,
              "#7201a8"
             ],
             [
              0.3333333333333333,
              "#9c179e"
             ],
             [
              0.4444444444444444,
              "#bd3786"
             ],
             [
              0.5555555555555556,
              "#d8576b"
             ],
             [
              0.6666666666666666,
              "#ed7953"
             ],
             [
              0.7777777777777778,
              "#fb9f3a"
             ],
             [
              0.8888888888888888,
              "#fdca26"
             ],
             [
              1,
              "#f0f921"
             ]
            ],
            "type": "contour"
           }
          ],
          "contourcarpet": [
           {
            "colorbar": {
             "outlinewidth": 0,
             "ticks": ""
            },
            "type": "contourcarpet"
           }
          ],
          "heatmap": [
           {
            "colorbar": {
             "outlinewidth": 0,
             "ticks": ""
            },
            "colorscale": [
             [
              0,
              "#0d0887"
             ],
             [
              0.1111111111111111,
              "#46039f"
             ],
             [
              0.2222222222222222,
              "#7201a8"
             ],
             [
              0.3333333333333333,
              "#9c179e"
             ],
             [
              0.4444444444444444,
              "#bd3786"
             ],
             [
              0.5555555555555556,
              "#d8576b"
             ],
             [
              0.6666666666666666,
              "#ed7953"
             ],
             [
              0.7777777777777778,
              "#fb9f3a"
             ],
             [
              0.8888888888888888,
              "#fdca26"
             ],
             [
              1,
              "#f0f921"
             ]
            ],
            "type": "heatmap"
           }
          ],
          "heatmapgl": [
           {
            "colorbar": {
             "outlinewidth": 0,
             "ticks": ""
            },
            "colorscale": [
             [
              0,
              "#0d0887"
             ],
             [
              0.1111111111111111,
              "#46039f"
             ],
             [
              0.2222222222222222,
              "#7201a8"
             ],
             [
              0.3333333333333333,
              "#9c179e"
             ],
             [
              0.4444444444444444,
              "#bd3786"
             ],
             [
              0.5555555555555556,
              "#d8576b"
             ],
             [
              0.6666666666666666,
              "#ed7953"
             ],
             [
              0.7777777777777778,
              "#fb9f3a"
             ],
             [
              0.8888888888888888,
              "#fdca26"
             ],
             [
              1,
              "#f0f921"
             ]
            ],
            "type": "heatmapgl"
           }
          ],
          "histogram": [
           {
            "marker": {
             "colorbar": {
              "outlinewidth": 0,
              "ticks": ""
             }
            },
            "type": "histogram"
           }
          ],
          "histogram2d": [
           {
            "colorbar": {
             "outlinewidth": 0,
             "ticks": ""
            },
            "colorscale": [
             [
              0,
              "#0d0887"
             ],
             [
              0.1111111111111111,
              "#46039f"
             ],
             [
              0.2222222222222222,
              "#7201a8"
             ],
             [
              0.3333333333333333,
              "#9c179e"
             ],
             [
              0.4444444444444444,
              "#bd3786"
             ],
             [
              0.5555555555555556,
              "#d8576b"
             ],
             [
              0.6666666666666666,
              "#ed7953"
             ],
             [
              0.7777777777777778,
              "#fb9f3a"
             ],
             [
              0.8888888888888888,
              "#fdca26"
             ],
             [
              1,
              "#f0f921"
             ]
            ],
            "type": "histogram2d"
           }
          ],
          "histogram2dcontour": [
           {
            "colorbar": {
             "outlinewidth": 0,
             "ticks": ""
            },
            "colorscale": [
             [
              0,
              "#0d0887"
             ],
             [
              0.1111111111111111,
              "#46039f"
             ],
             [
              0.2222222222222222,
              "#7201a8"
             ],
             [
              0.3333333333333333,
              "#9c179e"
             ],
             [
              0.4444444444444444,
              "#bd3786"
             ],
             [
              0.5555555555555556,
              "#d8576b"
             ],
             [
              0.6666666666666666,
              "#ed7953"
             ],
             [
              0.7777777777777778,
              "#fb9f3a"
             ],
             [
              0.8888888888888888,
              "#fdca26"
             ],
             [
              1,
              "#f0f921"
             ]
            ],
            "type": "histogram2dcontour"
           }
          ],
          "mesh3d": [
           {
            "colorbar": {
             "outlinewidth": 0,
             "ticks": ""
            },
            "type": "mesh3d"
           }
          ],
          "parcoords": [
           {
            "line": {
             "colorbar": {
              "outlinewidth": 0,
              "ticks": ""
             }
            },
            "type": "parcoords"
           }
          ],
          "scatter": [
           {
            "marker": {
             "colorbar": {
              "outlinewidth": 0,
              "ticks": ""
             }
            },
            "type": "scatter"
           }
          ],
          "scatter3d": [
           {
            "line": {
             "colorbar": {
              "outlinewidth": 0,
              "ticks": ""
             }
            },
            "marker": {
             "colorbar": {
              "outlinewidth": 0,
              "ticks": ""
             }
            },
            "type": "scatter3d"
           }
          ],
          "scattercarpet": [
           {
            "marker": {
             "colorbar": {
              "outlinewidth": 0,
              "ticks": ""
             }
            },
            "type": "scattercarpet"
           }
          ],
          "scattergeo": [
           {
            "marker": {
             "colorbar": {
              "outlinewidth": 0,
              "ticks": ""
             }
            },
            "type": "scattergeo"
           }
          ],
          "scattergl": [
           {
            "marker": {
             "colorbar": {
              "outlinewidth": 0,
              "ticks": ""
             }
            },
            "type": "scattergl"
           }
          ],
          "scattermapbox": [
           {
            "marker": {
             "colorbar": {
              "outlinewidth": 0,
              "ticks": ""
             }
            },
            "type": "scattermapbox"
           }
          ],
          "scatterpolar": [
           {
            "marker": {
             "colorbar": {
              "outlinewidth": 0,
              "ticks": ""
             }
            },
            "type": "scatterpolar"
           }
          ],
          "scatterpolargl": [
           {
            "marker": {
             "colorbar": {
              "outlinewidth": 0,
              "ticks": ""
             }
            },
            "type": "scatterpolargl"
           }
          ],
          "scatterternary": [
           {
            "marker": {
             "colorbar": {
              "outlinewidth": 0,
              "ticks": ""
             }
            },
            "type": "scatterternary"
           }
          ],
          "surface": [
           {
            "colorbar": {
             "outlinewidth": 0,
             "ticks": ""
            },
            "colorscale": [
             [
              0,
              "#0d0887"
             ],
             [
              0.1111111111111111,
              "#46039f"
             ],
             [
              0.2222222222222222,
              "#7201a8"
             ],
             [
              0.3333333333333333,
              "#9c179e"
             ],
             [
              0.4444444444444444,
              "#bd3786"
             ],
             [
              0.5555555555555556,
              "#d8576b"
             ],
             [
              0.6666666666666666,
              "#ed7953"
             ],
             [
              0.7777777777777778,
              "#fb9f3a"
             ],
             [
              0.8888888888888888,
              "#fdca26"
             ],
             [
              1,
              "#f0f921"
             ]
            ],
            "type": "surface"
           }
          ],
          "table": [
           {
            "cells": {
             "fill": {
              "color": "#EBF0F8"
             },
             "line": {
              "color": "white"
             }
            },
            "header": {
             "fill": {
              "color": "#C8D4E3"
             },
             "line": {
              "color": "white"
             }
            },
            "type": "table"
           }
          ]
         },
         "layout": {
          "annotationdefaults": {
           "arrowcolor": "#2a3f5f",
           "arrowhead": 0,
           "arrowwidth": 1
          },
          "colorscale": {
           "diverging": [
            [
             0,
             "#8e0152"
            ],
            [
             0.1,
             "#c51b7d"
            ],
            [
             0.2,
             "#de77ae"
            ],
            [
             0.3,
             "#f1b6da"
            ],
            [
             0.4,
             "#fde0ef"
            ],
            [
             0.5,
             "#f7f7f7"
            ],
            [
             0.6,
             "#e6f5d0"
            ],
            [
             0.7,
             "#b8e186"
            ],
            [
             0.8,
             "#7fbc41"
            ],
            [
             0.9,
             "#4d9221"
            ],
            [
             1,
             "#276419"
            ]
           ],
           "sequential": [
            [
             0,
             "#0d0887"
            ],
            [
             0.1111111111111111,
             "#46039f"
            ],
            [
             0.2222222222222222,
             "#7201a8"
            ],
            [
             0.3333333333333333,
             "#9c179e"
            ],
            [
             0.4444444444444444,
             "#bd3786"
            ],
            [
             0.5555555555555556,
             "#d8576b"
            ],
            [
             0.6666666666666666,
             "#ed7953"
            ],
            [
             0.7777777777777778,
             "#fb9f3a"
            ],
            [
             0.8888888888888888,
             "#fdca26"
            ],
            [
             1,
             "#f0f921"
            ]
           ],
           "sequentialminus": [
            [
             0,
             "#0d0887"
            ],
            [
             0.1111111111111111,
             "#46039f"
            ],
            [
             0.2222222222222222,
             "#7201a8"
            ],
            [
             0.3333333333333333,
             "#9c179e"
            ],
            [
             0.4444444444444444,
             "#bd3786"
            ],
            [
             0.5555555555555556,
             "#d8576b"
            ],
            [
             0.6666666666666666,
             "#ed7953"
            ],
            [
             0.7777777777777778,
             "#fb9f3a"
            ],
            [
             0.8888888888888888,
             "#fdca26"
            ],
            [
             1,
             "#f0f921"
            ]
           ]
          },
          "colorway": [
           "#636efa",
           "#EF553B",
           "#00cc96",
           "#ab63fa",
           "#FFA15A",
           "#19d3f3",
           "#FF6692",
           "#B6E880",
           "#FF97FF",
           "#FECB52"
          ],
          "font": {
           "color": "#2a3f5f"
          },
          "geo": {
           "bgcolor": "white",
           "lakecolor": "white",
           "landcolor": "#E5ECF6",
           "showlakes": true,
           "showland": true,
           "subunitcolor": "white"
          },
          "hoverlabel": {
           "align": "left"
          },
          "hovermode": "closest",
          "mapbox": {
           "style": "light"
          },
          "paper_bgcolor": "white",
          "plot_bgcolor": "#E5ECF6",
          "polar": {
           "angularaxis": {
            "gridcolor": "white",
            "linecolor": "white",
            "ticks": ""
           },
           "bgcolor": "#E5ECF6",
           "radialaxis": {
            "gridcolor": "white",
            "linecolor": "white",
            "ticks": ""
           }
          },
          "scene": {
           "xaxis": {
            "backgroundcolor": "#E5ECF6",
            "gridcolor": "white",
            "gridwidth": 2,
            "linecolor": "white",
            "showbackground": true,
            "ticks": "",
            "zerolinecolor": "white"
           },
           "yaxis": {
            "backgroundcolor": "#E5ECF6",
            "gridcolor": "white",
            "gridwidth": 2,
            "linecolor": "white",
            "showbackground": true,
            "ticks": "",
            "zerolinecolor": "white"
           },
           "zaxis": {
            "backgroundcolor": "#E5ECF6",
            "gridcolor": "white",
            "gridwidth": 2,
            "linecolor": "white",
            "showbackground": true,
            "ticks": "",
            "zerolinecolor": "white"
           }
          },
          "shapedefaults": {
           "line": {
            "color": "#2a3f5f"
           }
          },
          "ternary": {
           "aaxis": {
            "gridcolor": "white",
            "linecolor": "white",
            "ticks": ""
           },
           "baxis": {
            "gridcolor": "white",
            "linecolor": "white",
            "ticks": ""
           },
           "bgcolor": "#E5ECF6",
           "caxis": {
            "gridcolor": "white",
            "linecolor": "white",
            "ticks": ""
           }
          },
          "title": {
           "x": 0.05
          },
          "xaxis": {
           "automargin": true,
           "gridcolor": "white",
           "linecolor": "white",
           "ticks": "",
           "zerolinecolor": "white",
           "zerolinewidth": 2
          },
          "yaxis": {
           "automargin": true,
           "gridcolor": "white",
           "linecolor": "white",
           "ticks": "",
           "zerolinecolor": "white",
           "zerolinewidth": 2
          }
         }
        },
        "title": {
         "text": "Top 100 Billboard #1 Songs in terms of Relative Popularity & Relevance",
         "x": 0.5,
         "xanchor": "center",
         "y": 0.9,
         "yanchor": "top"
        },
        "width": 1000,
        "xaxis": {
         "tickangle": 45,
         "title": {
          "text": "Song"
         }
        },
        "yaxis": {
         "title": {
          "text": "Popularity"
         }
        }
       }
      },
      "text/html": [
       "<div>\n",
       "        \n",
       "        \n",
       "            <div id=\"2529bad4-dc3b-4082-a73d-51f80ce3c640\" class=\"plotly-graph-div\" style=\"height:800px; width:1000px;\"></div>\n",
       "            <script type=\"text/javascript\">\n",
       "                require([\"plotly\"], function(Plotly) {\n",
       "                    window.PLOTLYENV=window.PLOTLYENV || {};\n",
       "                    \n",
       "                if (document.getElementById(\"2529bad4-dc3b-4082-a73d-51f80ce3c640\")) {\n",
       "                    Plotly.newPlot(\n",
       "                        '2529bad4-dc3b-4082-a73d-51f80ce3c640',\n",
       "                        [{\"hovertemplate\": \"<b>%{x}</b><br><i>%{text}</i><br><br>Popularity: %{y}<br>Relevance: %{marker.size}\", \"marker\": {\"cmax\": 1, \"cmin\": 0, \"color\": [0.35, 0.43, 0.3, 0.47, 0.41, 0.47, 0.25, 0.35, 0.28, 0.4, 0.4, 0.35, 0.35, 0.37, 0.38, 0.33, 0.36, 0.62, 0.32, 0.28, 0.35, 0.24, 0.28, 0.41, 0.35, 0.37, 0.28, 0.24, 0.42, 0.27, 0.32, 0.4, 0.59, 0.21, 0.26, 0.23, 0.33, 0.4, 0.33, 0.48, 0.38, 0.21, 0.35, 0.39, 0.27, 0.31, 0.22, 0.52, 0.3, 0.3, 0.34, 0.28, 0.31, 0.27, 0.25, 0.18, 0.39, 0.26, 0.33, 0.19, 0.21, 0.31, 0.33, 0.16, 0.3, 0.22, 0.25, 0.23, 0.36, 0.25, 0.24, 0.24, 0.48, 0.24, 0.14, 0.26, 0.18, 0.25, 0.28, 0.18, 0.22, 0.2, 0.21, 0.19, 0.17, 0.25, 0.46, 0.25, 0.28, 0.23, 0.23, 0.26, 0.32, 0.45, 0.31, 0.31, 0.21, 0.38, 0.25, 0.73], \"colorbar\": {\"title\": {\"text\": \"Colorbar\"}}, \"colorscale\": [[0.0, \"#000004\"], [0.1111111111111111, \"#180f3d\"], [0.2222222222222222, \"#440f76\"], [0.3333333333333333, \"#721f81\"], [0.4444444444444444, \"#9e2f7f\"], [0.5555555555555556, \"#cd4071\"], [0.6666666666666666, \"#f1605d\"], [0.7777777777777778, \"#fd9668\"], [0.8888888888888888, \"#feca8d\"], [1.0, \"#fcfdbf\"]], \"size\": [26, 21, 23, 15, 17, 19, 28, 23, 25, 20, 25, 26, 20, 19, 26, 27, 22, 21, 22, 25, 20, 29, 25, 32, 23, 30, 29, 29, 33, 30, 25, 20, 27, 34, 42, 60, 42, 20, 33, 27, 26, 58, 20, 28, 26, 32, 41, 23, 27, 30, 29, 32, 29, 45, 36, 38, 23, 39, 43, 36, 33, 29, 30, 49, 23, 32, 40, 31, 33, 56, 38, 29, 29, 41, 59, 42, 50, 48, 25, 39, 36, 44, 47, 36, 47, 36, 26, 56, 36, 52, 52, 27, 25, 22, 51, 36, 58, 21, 28, 15]}, \"mode\": \"markers\", \"text\": [\"Bobby Darin (1960)\", \"Percy Faith And His Orchestra (1960)\", \"Bobby Lewis (1961)\", \"The Beatles (1964)\", \"Gladys Knight And The Pips (1968)\", \"The Beatles (1969)\", \"Frankie Avalon (1976)\", \"Rod Stewart (1977)\", \"Andy Gibb (1978)\", \"Bee Gees (1978)\", \"Debby Boone (1978)\", \"Kim Carnes (1981)\", \"Joan Jett & the Blackhearts (1982)\", \"Paul McCartney And Stevie Wonder (1982)\", \"Olivia Newton-John (1982)\", \"Diana Ross & Lionel Richie (1982)\", \"The Police (1983)\", \"Van Halen (1984)\", \"Bryan Adams (1991)\", \"The Escape Club (1991)\", \"Michael Jackson (1992)\", \"UB40 (1993)\", \"Snow (1993)\", \"Boyz II Men (1993)\", \"Janet Jackson (1993)\", \"All-4-One (1994)\", \"Mariah Carey (1994)\", \"Montell Jordan (1995)\", \"Boyz II Men (1995)\", \"Madonna (1995)\", \"Mariah Carey (1996)\", \"Bone Thugs-N-Harmony (1996)\", \"Mariah Carey & Boyz II Men (1996)\", \"TLC (1996)\", \"Toni Braxton (1997)\", \"Los Del Rio (1997)\", \"Elton John (1998)\", \"Mariah Carey (1998)\", \"Puff Daddy & Faith Evans Featuring 112 (1998)\", \"Brandy & Monica (1998)\", \"Santana Featuring The Product G&B (2000)\", \"Santana Featuring Rob Thomas (2000)\", \"Smash Mouth (2001)\", \"Destiny's Child (2001)\", \"Nelly (2002)\", \"Ashanti (2002)\", \"Mary J. Blige (2002)\", \"Eminem (2003)\", \"Beyonce Featuring Jay Z (2003)\", \"50 Cent (2003)\", \"Nelly Featuring Kelly Rowland (2003)\", \"OutKast (2004)\", \"Beyonce Featuring Sean Paul (2004)\", \"Usher Featuring Lil Jon & Ludacris (2004)\", \"Mario (2005)\", \"Ciara Featuring Petey Pablo (2005)\", \"50 Cent Featuring Olivia (2005)\", \"Kanye West Featuring Jamie Foxx (2006)\", \"Mariah Carey (2006)\", \"Justin Timberlake (2007)\", \"Rihanna Featuring Jay-Z (2007)\", \"Justin Timberlake Featuring T.I. (2007)\", \"Beyonce (2007)\", \"Nickelback (2008)\", \"Katy Perry (2008)\", \"Soulja Boy Tell'em (2008)\", \"Flo Rida Featuring T-Pain (2008)\", \"T.I. (2009)\", \"The Black Eyed Peas (2009)\", \"The Black Eyed Peas (2010)\", \"Ke$ha (2010)\", \"Eminem Featuring Rihanna (2011)\", \"Whitney Houston (2012)\", \"Rihanna Featuring Calvin Harris (2012)\", \"Gotye Featuring Kimbra (2013)\", \"Maroon 5 (2013)\", \"Carly Rae Jepsen (2013)\", \"Robin Thicke Featuring T.I. + Pharrell (2014)\", \"Michael Jackson (2014)\", \"Iggy Azalea Featuring Charli XCX (2014)\", \"Ellie Goulding (2014)\", \"Lorde (2014)\", \"Pharrell Williams (2014)\", \"Taylor Swift (2015)\", \"Meghan Trainor (2015)\", \"Rihanna Featuring Drake (2016)\", \"Adele (2016)\", \"Mark Ronson Featuring Bruno Mars (2016)\", \"Drake Featuring WizKid & Kyla (2016)\", \"Wiz Khalifa Featuring Charlie Puth (2016)\", \"The Chainsmokers Featuring Halsey (2017)\", \"Rae Sremmurd Featuring Gucci Mane (2017)\", \"Drake (2018)\", \"Drake (2018)\", \"Luis Fonsi & Daddy Yankee Featuring Justin Bieber (2018)\", \"Drake (2018)\", \"Ed Sheeran (2018)\", \"Ariana Grande (2019)\", \"Ariana Grande (2019)\", \"Lil Nas X Featuring Billy Ray Cyrus (2019)\"], \"type\": \"scatter\", \"x\": [\"Mack The Knife\", \"The Theme From \\\"A Summer Place\\\"\", \"Tossin' And Turnin'\", \"I Want To Hold Your Hand\", \"I Heard It Through The Grapevine\", \"Hey Jude\", \"Venus\", \"Tonight's The Night (Gonna Be Alright)\", \"Shadow Dancing\", \"Night Fever\", \"You Light Up My Life\", \"Bette Davis Eyes\", \"I Love Rock 'N Roll\", \"Ebony And Ivory\", \"Physical\", \"Endless Love\", \"Every Breath You Take\", \"Jump\", \"(Everything I Do) I Do It For You\", \"I'll Be There\", \"Black Or White\", \"Can't Help Falling In Love (From \\\"Sliver\\\")\", \"Informer\", \"End Of The Road (From \\\"Boomerang\\\")\", \"That's The Way Love Goes\", \"I Swear\", \"Dreamlover\", \"This Is How We Do It\", \"I'll Make Love To You\", \"Take A Bow\", \"Fantasy\", \"Tha Crossroads\", \"One Sweet Day\", \"Waterfalls\", \"Un-Break My Heart\", \"Macarena (Bayside Boys Mix)\", \"Candle In The Wind 1997/Something About The Way You Look Tonight\", \"Honey\", \"I'll Be Missing You\", \"The Boy Is Mine\", \"Maria Maria\", \"Smooth\", \"I'm A Believer\", \"Independent Women Part I\", \"Hot In Herre\", \"Foolish\", \"Family Affair\", \"Lose Yourself\", \"Crazy In Love\", \"In Da Club\", \"Dilemma\", \"Hey Ya!\", \"Baby Boy\", \"Yeah!\", \"Let Me Love You\", \"Goodies\", \"Candy Shop\", \"Gold Digger\", \"We Belong Together\", \"SexyBack\", \"Umbrella\", \"My Love\", \"Irreplaceable\", \"Rockstar\", \"I Kissed A Girl\", \"Crank That (Soulja Boy)\", \"Low\", \"Whatever You Like\", \"Boom Boom Pow\", \"I Gotta Feeling\", \"TiK ToK\", \"Love The Way You Lie\", \"I Will Always Love You\", \"We Found Love\", \"Somebody That I Used To Know\", \"One More Night\", \"Call Me Maybe\", \"Blurred Lines\", \"Billie Jean\", \"Fancy\", \"Burn\", \"Royals\", \"Happy\", \"Blank Space\", \"All About That Bass\", \"Work\", \"Hello\", \"Uptown Funk!\", \"One Dance\", \"See You Again\", \"Closer\", \"Black Beatles\", \"Nice For What\", \"In My Feelings\", \"Despacito\", \"God's Plan\", \"Shape Of You\", \"7 Rings\", \"Thank U, Next\", \"Old Town Road\"], \"y\": [0.35, 0.43, 0.3, 0.47, 0.41, 0.47, 0.25, 0.35, 0.28, 0.4, 0.4, 0.35, 0.35, 0.37, 0.38, 0.33, 0.36, 0.62, 0.32, 0.28, 0.35, 0.24, 0.28, 0.41, 0.35, 0.37, 0.28, 0.24, 0.42, 0.27, 0.32, 0.4, 0.59, 0.21, 0.26, 0.23, 0.33, 0.4, 0.33, 0.48, 0.38, 0.21, 0.35, 0.39, 0.27, 0.31, 0.22, 0.52, 0.3, 0.3, 0.34, 0.28, 0.31, 0.27, 0.25, 0.18, 0.39, 0.26, 0.33, 0.19, 0.21, 0.31, 0.33, 0.16, 0.3, 0.22, 0.25, 0.23, 0.36, 0.25, 0.24, 0.24, 0.48, 0.24, 0.14, 0.26, 0.18, 0.25, 0.28, 0.18, 0.22, 0.2, 0.21, 0.19, 0.17, 0.25, 0.46, 0.25, 0.28, 0.23, 0.23, 0.26, 0.32, 0.45, 0.31, 0.31, 0.21, 0.38, 0.25, 0.73]}],\n",
       "                        {\"autosize\": false, \"height\": 800, \"margin\": {\"b\": 300, \"l\": 50, \"pad\": 4, \"r\": 50, \"t\": 100}, \"template\": {\"data\": {\"bar\": [{\"error_x\": {\"color\": \"#2a3f5f\"}, \"error_y\": {\"color\": \"#2a3f5f\"}, \"marker\": {\"line\": {\"color\": \"#E5ECF6\", \"width\": 0.5}}, \"type\": \"bar\"}], \"barpolar\": [{\"marker\": {\"line\": {\"color\": \"#E5ECF6\", \"width\": 0.5}}, \"type\": \"barpolar\"}], \"carpet\": [{\"aaxis\": {\"endlinecolor\": \"#2a3f5f\", \"gridcolor\": \"white\", \"linecolor\": \"white\", \"minorgridcolor\": \"white\", \"startlinecolor\": \"#2a3f5f\"}, \"baxis\": {\"endlinecolor\": \"#2a3f5f\", \"gridcolor\": \"white\", \"linecolor\": \"white\", \"minorgridcolor\": \"white\", \"startlinecolor\": \"#2a3f5f\"}, \"type\": \"carpet\"}], \"choropleth\": [{\"colorbar\": {\"outlinewidth\": 0, \"ticks\": \"\"}, \"type\": \"choropleth\"}], \"contour\": [{\"colorbar\": {\"outlinewidth\": 0, \"ticks\": \"\"}, \"colorscale\": [[0.0, \"#0d0887\"], [0.1111111111111111, \"#46039f\"], [0.2222222222222222, \"#7201a8\"], [0.3333333333333333, \"#9c179e\"], [0.4444444444444444, \"#bd3786\"], [0.5555555555555556, \"#d8576b\"], [0.6666666666666666, \"#ed7953\"], [0.7777777777777778, \"#fb9f3a\"], [0.8888888888888888, \"#fdca26\"], [1.0, \"#f0f921\"]], \"type\": \"contour\"}], \"contourcarpet\": [{\"colorbar\": {\"outlinewidth\": 0, \"ticks\": \"\"}, \"type\": \"contourcarpet\"}], \"heatmap\": [{\"colorbar\": {\"outlinewidth\": 0, \"ticks\": \"\"}, \"colorscale\": [[0.0, \"#0d0887\"], [0.1111111111111111, \"#46039f\"], [0.2222222222222222, \"#7201a8\"], [0.3333333333333333, \"#9c179e\"], [0.4444444444444444, \"#bd3786\"], [0.5555555555555556, \"#d8576b\"], [0.6666666666666666, \"#ed7953\"], [0.7777777777777778, \"#fb9f3a\"], [0.8888888888888888, \"#fdca26\"], [1.0, \"#f0f921\"]], \"type\": \"heatmap\"}], \"heatmapgl\": [{\"colorbar\": {\"outlinewidth\": 0, \"ticks\": \"\"}, \"colorscale\": [[0.0, \"#0d0887\"], [0.1111111111111111, \"#46039f\"], [0.2222222222222222, \"#7201a8\"], [0.3333333333333333, \"#9c179e\"], [0.4444444444444444, \"#bd3786\"], [0.5555555555555556, \"#d8576b\"], [0.6666666666666666, \"#ed7953\"], [0.7777777777777778, \"#fb9f3a\"], [0.8888888888888888, \"#fdca26\"], [1.0, \"#f0f921\"]], \"type\": \"heatmapgl\"}], \"histogram\": [{\"marker\": {\"colorbar\": {\"outlinewidth\": 0, \"ticks\": \"\"}}, \"type\": \"histogram\"}], \"histogram2d\": [{\"colorbar\": {\"outlinewidth\": 0, \"ticks\": \"\"}, \"colorscale\": [[0.0, \"#0d0887\"], [0.1111111111111111, \"#46039f\"], [0.2222222222222222, \"#7201a8\"], [0.3333333333333333, \"#9c179e\"], [0.4444444444444444, \"#bd3786\"], [0.5555555555555556, \"#d8576b\"], [0.6666666666666666, \"#ed7953\"], [0.7777777777777778, \"#fb9f3a\"], [0.8888888888888888, \"#fdca26\"], [1.0, \"#f0f921\"]], \"type\": \"histogram2d\"}], \"histogram2dcontour\": [{\"colorbar\": {\"outlinewidth\": 0, \"ticks\": \"\"}, \"colorscale\": [[0.0, \"#0d0887\"], [0.1111111111111111, \"#46039f\"], [0.2222222222222222, \"#7201a8\"], [0.3333333333333333, \"#9c179e\"], [0.4444444444444444, \"#bd3786\"], [0.5555555555555556, \"#d8576b\"], [0.6666666666666666, \"#ed7953\"], [0.7777777777777778, \"#fb9f3a\"], [0.8888888888888888, \"#fdca26\"], [1.0, \"#f0f921\"]], \"type\": \"histogram2dcontour\"}], \"mesh3d\": [{\"colorbar\": {\"outlinewidth\": 0, \"ticks\": \"\"}, \"type\": \"mesh3d\"}], \"parcoords\": [{\"line\": {\"colorbar\": {\"outlinewidth\": 0, \"ticks\": \"\"}}, \"type\": \"parcoords\"}], \"scatter\": [{\"marker\": {\"colorbar\": {\"outlinewidth\": 0, \"ticks\": \"\"}}, \"type\": \"scatter\"}], \"scatter3d\": [{\"line\": {\"colorbar\": {\"outlinewidth\": 0, \"ticks\": \"\"}}, \"marker\": {\"colorbar\": {\"outlinewidth\": 0, \"ticks\": \"\"}}, \"type\": \"scatter3d\"}], \"scattercarpet\": [{\"marker\": {\"colorbar\": {\"outlinewidth\": 0, \"ticks\": \"\"}}, \"type\": \"scattercarpet\"}], \"scattergeo\": [{\"marker\": {\"colorbar\": {\"outlinewidth\": 0, \"ticks\": \"\"}}, \"type\": \"scattergeo\"}], \"scattergl\": [{\"marker\": {\"colorbar\": {\"outlinewidth\": 0, \"ticks\": \"\"}}, \"type\": \"scattergl\"}], \"scattermapbox\": [{\"marker\": {\"colorbar\": {\"outlinewidth\": 0, \"ticks\": \"\"}}, \"type\": \"scattermapbox\"}], \"scatterpolar\": [{\"marker\": {\"colorbar\": {\"outlinewidth\": 0, \"ticks\": \"\"}}, \"type\": \"scatterpolar\"}], \"scatterpolargl\": [{\"marker\": {\"colorbar\": {\"outlinewidth\": 0, \"ticks\": \"\"}}, \"type\": \"scatterpolargl\"}], \"scatterternary\": [{\"marker\": {\"colorbar\": {\"outlinewidth\": 0, \"ticks\": \"\"}}, \"type\": \"scatterternary\"}], \"surface\": [{\"colorbar\": {\"outlinewidth\": 0, \"ticks\": \"\"}, \"colorscale\": [[0.0, \"#0d0887\"], [0.1111111111111111, \"#46039f\"], [0.2222222222222222, \"#7201a8\"], [0.3333333333333333, \"#9c179e\"], [0.4444444444444444, \"#bd3786\"], [0.5555555555555556, \"#d8576b\"], [0.6666666666666666, \"#ed7953\"], [0.7777777777777778, \"#fb9f3a\"], [0.8888888888888888, \"#fdca26\"], [1.0, \"#f0f921\"]], \"type\": \"surface\"}], \"table\": [{\"cells\": {\"fill\": {\"color\": \"#EBF0F8\"}, \"line\": {\"color\": \"white\"}}, \"header\": {\"fill\": {\"color\": \"#C8D4E3\"}, \"line\": {\"color\": \"white\"}}, \"type\": \"table\"}]}, \"layout\": {\"annotationdefaults\": {\"arrowcolor\": \"#2a3f5f\", \"arrowhead\": 0, \"arrowwidth\": 1}, \"colorscale\": {\"diverging\": [[0, \"#8e0152\"], [0.1, \"#c51b7d\"], [0.2, \"#de77ae\"], [0.3, \"#f1b6da\"], [0.4, \"#fde0ef\"], [0.5, \"#f7f7f7\"], [0.6, \"#e6f5d0\"], [0.7, \"#b8e186\"], [0.8, \"#7fbc41\"], [0.9, \"#4d9221\"], [1, \"#276419\"]], \"sequential\": [[0.0, \"#0d0887\"], [0.1111111111111111, \"#46039f\"], [0.2222222222222222, \"#7201a8\"], [0.3333333333333333, \"#9c179e\"], [0.4444444444444444, \"#bd3786\"], [0.5555555555555556, \"#d8576b\"], [0.6666666666666666, \"#ed7953\"], [0.7777777777777778, \"#fb9f3a\"], [0.8888888888888888, \"#fdca26\"], [1.0, \"#f0f921\"]], \"sequentialminus\": [[0.0, \"#0d0887\"], [0.1111111111111111, \"#46039f\"], [0.2222222222222222, \"#7201a8\"], [0.3333333333333333, \"#9c179e\"], [0.4444444444444444, \"#bd3786\"], [0.5555555555555556, \"#d8576b\"], [0.6666666666666666, \"#ed7953\"], [0.7777777777777778, \"#fb9f3a\"], [0.8888888888888888, \"#fdca26\"], [1.0, \"#f0f921\"]]}, \"colorway\": [\"#636efa\", \"#EF553B\", \"#00cc96\", \"#ab63fa\", \"#FFA15A\", \"#19d3f3\", \"#FF6692\", \"#B6E880\", \"#FF97FF\", \"#FECB52\"], \"font\": {\"color\": \"#2a3f5f\"}, \"geo\": {\"bgcolor\": \"white\", \"lakecolor\": \"white\", \"landcolor\": \"#E5ECF6\", \"showlakes\": true, \"showland\": true, \"subunitcolor\": \"white\"}, \"hoverlabel\": {\"align\": \"left\"}, \"hovermode\": \"closest\", \"mapbox\": {\"style\": \"light\"}, \"paper_bgcolor\": \"white\", \"plot_bgcolor\": \"#E5ECF6\", \"polar\": {\"angularaxis\": {\"gridcolor\": \"white\", \"linecolor\": \"white\", \"ticks\": \"\"}, \"bgcolor\": \"#E5ECF6\", \"radialaxis\": {\"gridcolor\": \"white\", \"linecolor\": \"white\", \"ticks\": \"\"}}, \"scene\": {\"xaxis\": {\"backgroundcolor\": \"#E5ECF6\", \"gridcolor\": \"white\", \"gridwidth\": 2, \"linecolor\": \"white\", \"showbackground\": true, \"ticks\": \"\", \"zerolinecolor\": \"white\"}, \"yaxis\": {\"backgroundcolor\": \"#E5ECF6\", \"gridcolor\": \"white\", \"gridwidth\": 2, \"linecolor\": \"white\", \"showbackground\": true, \"ticks\": \"\", \"zerolinecolor\": \"white\"}, \"zaxis\": {\"backgroundcolor\": \"#E5ECF6\", \"gridcolor\": \"white\", \"gridwidth\": 2, \"linecolor\": \"white\", \"showbackground\": true, \"ticks\": \"\", \"zerolinecolor\": \"white\"}}, \"shapedefaults\": {\"line\": {\"color\": \"#2a3f5f\"}}, \"ternary\": {\"aaxis\": {\"gridcolor\": \"white\", \"linecolor\": \"white\", \"ticks\": \"\"}, \"baxis\": {\"gridcolor\": \"white\", \"linecolor\": \"white\", \"ticks\": \"\"}, \"bgcolor\": \"#E5ECF6\", \"caxis\": {\"gridcolor\": \"white\", \"linecolor\": \"white\", \"ticks\": \"\"}}, \"title\": {\"x\": 0.05}, \"xaxis\": {\"automargin\": true, \"gridcolor\": \"white\", \"linecolor\": \"white\", \"ticks\": \"\", \"zerolinecolor\": \"white\", \"zerolinewidth\": 2}, \"yaxis\": {\"automargin\": true, \"gridcolor\": \"white\", \"linecolor\": \"white\", \"ticks\": \"\", \"zerolinecolor\": \"white\", \"zerolinewidth\": 2}}}, \"title\": {\"text\": \"Top 100 Billboard #1 Songs in terms of Relative Popularity & Relevance\", \"x\": 0.5, \"xanchor\": \"center\", \"y\": 0.9, \"yanchor\": \"top\"}, \"width\": 1000, \"xaxis\": {\"tickangle\": 45, \"title\": {\"text\": \"Song\"}}, \"yaxis\": {\"title\": {\"text\": \"Popularity\"}}},\n",
       "                        {\"responsive\": true}\n",
       "                    ).then(function(){\n",
       "                            \n",
       "var gd = document.getElementById('2529bad4-dc3b-4082-a73d-51f80ce3c640');\n",
       "var x = new MutationObserver(function (mutations, observer) {{\n",
       "        var display = window.getComputedStyle(gd).display;\n",
       "        if (!display || display === 'none') {{\n",
       "            console.log([gd, 'removed!']);\n",
       "            Plotly.purge(gd);\n",
       "            observer.disconnect();\n",
       "        }}\n",
       "}});\n",
       "\n",
       "// Listen for the removal of the full notebook cells\n",
       "var notebookContainer = gd.closest('#notebook-container');\n",
       "if (notebookContainer) {{\n",
       "    x.observe(notebookContainer, {childList: true});\n",
       "}}\n",
       "\n",
       "// Listen for the clearing of the current output cell\n",
       "var outputEl = gd.closest('.output');\n",
       "if (outputEl) {{\n",
       "    x.observe(outputEl, {childList: true});\n",
       "}}\n",
       "\n",
       "                        })\n",
       "                };\n",
       "                });\n",
       "            </script>\n",
       "        </div>"
      ]
     },
     "metadata": {},
     "output_type": "display_data"
    }
   ],
   "source": [
    "# create bubble chart\n",
    "# stackoverflow link: https://plot.ly/python/bubble-charts/\n",
    "# plotly colorscale: https://plot.ly/python/v3/matplotlib-colorscales/\n",
    "fig = go.Figure()\n",
    "\n",
    "fig.add_trace(go.Scatter(\n",
    "    x=bboard_song_pop_relevance_top100['Song'],\n",
    "    y=bboard_song_pop_relevance_top100['Popularity'],\n",
    "    mode='markers',\n",
    "    marker=dict(\n",
    "        size=16,\n",
    "        cmax=1,\n",
    "        cmin=0,\n",
    "        color=bboard_song_pop_relevance_top100['Popularity'],\n",
    "        colorbar=dict(\n",
    "            title=\"Colorbar\"\n",
    "        ),\n",
    "        colorscale=\"magma\"\n",
    "    ),\n",
    "    marker_size=bboard_song_pop_relevance_top100['Relevance (Total Weeks on Chart)'],\n",
    "    text=bboard_song_pop_relevance_top100['Performer'],\n",
    "    hovertemplate = \"<b>%{x}</b><br><i>%{text}</i><br><br>Popularity: %{y}<br>Relevance: %{marker.size}\",\n",
    "))\n",
    "\n",
    "fig.update_layout(\n",
    "    title={\n",
    "        'text': \"Top 100 Billboard #1 Songs in terms of Relative Popularity & Relevance\",\n",
    "        'y':0.9,\n",
    "        'x':0.5,\n",
    "        'xanchor': 'center',\n",
    "        'yanchor': 'top'},\n",
    "    autosize=False,\n",
    "        width=1000,\n",
    "        height=800,\n",
    "        margin=go.layout.Margin(\n",
    "            l=50,\n",
    "            r=50,\n",
    "            b=300,\n",
    "            t=100,\n",
    "            pad=4\n",
    "        ))\n",
    "fig.update_xaxes(title_text='Song')\n",
    "fig.update_xaxes(tickangle=45)\n",
    "fig.update_yaxes(title_text='Popularity')\n",
    "\n",
    "fig.show()"
   ]
  },
  {
   "cell_type": "markdown",
   "metadata": {},
   "source": [
    "#### Step 3: Analysis\n",
    "\n",
    "There are a few interesting observations to be made from the interactive chart above. \n",
    "\n",
    "First, we see that relatively, the most popular songs through the ages generally do not have as much relevance (they have a higher no. 1-vs-rest ratio on the billboard charts, but spend less weeks on the charts). \n",
    "\n",
    "Next, we see that relatively, no.1 Billboard ranking songs after the 2000s tend to have more relevance (they tend to spend more weeks on the charts than pre-2000 no. 1 songs). This may be due to some external factors such as the rise of YouTube music videos (more on this in 2nd analysis).\n",
    "\n",
    "Lastly, we see that the data points that stand out (the ones near the top) are the ones that have high number of weeks spent in no. 1 position ([link](https://www.billboard.com/articles/columns/chart-beat/6077132/hot-100-songs-longest-leading-no-1s)). There are some exceptions to this, including 'Despacito' and 'Uptown Funk!'.\n",
    "\n",
    "Other analysis here: performance of song as velocity climb to no. 1"
   ]
  },
  {
   "cell_type": "markdown",
   "metadata": {},
   "source": [
    "### II. Analysis of Songs in terms of velocity climb to no. 1"
   ]
  },
  {
   "cell_type": "markdown",
   "metadata": {},
   "source": [
    "In addition to analyzing song popularity and relevance, it is also important to understand the trend about a song's velocity. We define the term below:\n",
    "\n",
    "**Velocity**: how many weeks did it take the song to reach no. 1 on Billboard\n",
    "\n",
    "**#1 Streak**: how many weeks did the song stay at no. 1 on Billboard\n",
    "\n",
    "I will be preparing a visualization that shows the velocity graph of the top 100 songs that spent the most time on Billboard charts. \n",
    "\n",
    "#### Step 1: Data Preparation"
   ]
  },
  {
   "cell_type": "code",
   "execution_count": 141,
   "metadata": {
    "collapsed": false
   },
   "outputs": [],
   "source": [
    "bboard_data = pd.read_csv('tmp_data/cleaned_bboard_data.csv')\n",
    "# clean rows to keep only entry for first time the song reaches peak position\n",
    "# stackoverflow link: https://stackoverflow.com/questions/50283775/python-pandas-keep-row-with-highest-column-value\n",
    "bboard_data = bboard_data.sort_values(['Week Position', 'Weeks on Chart'], ascending=[True, True]).drop_duplicates([\"Song\"],keep='first')\n",
    "# join cleaned dataframe with top 100 songs\n",
    "bboard_data = pd.merge(bboard_song_pop_relevance_top100, bboard_data, how='left', left_on='Song', right_on='Song')\n",
    "bboard_data = bboard_data[['Song','Performer_x', 'Count of no. 1', 'Year', 'Popularity', 'Weeks on Chart']]\n",
    "bboard_data.columns = ['Song', 'Performer', 'no. 1 Streak', 'Year', 'Popularity', 'Weeks before no. 1']\n",
    "bboard_data.to_csv('tmp_data/bboard_song_velocity_top100.csv')"
   ]
  },
  {
   "cell_type": "markdown",
   "metadata": {},
   "source": [
    "#### Step 2: Data Visualization"
   ]
  },
  {
   "cell_type": "code",
   "execution_count": 142,
   "metadata": {
    "collapsed": false
   },
   "outputs": [
    {
     "data": {
      "application/vnd.plotly.v1+json": {
       "config": {
        "plotlyServerURL": "https://plot.ly"
       },
       "data": [
        {
         "hovertemplate": "<b>%{x}</b><br><i>%{text}</i><br><br>Weeks before #1: %{y}<br>#1 Streak: %{marker.size}",
         "marker": {
          "cmax": 15,
          "cmin": 5,
          "color": [
           7,
           7,
           12,
           3,
           4,
           3,
           5,
           7,
           7,
           7,
           10,
           8,
           7,
           6,
           8,
           6,
           6,
           4,
           5,
           4,
           3,
           3,
           5,
           11,
           10,
           5,
           6,
           8,
           3,
           5,
           5,
           1,
           2,
           1,
           33,
           7,
           1,
           1,
           1,
           2,
           9,
           13,
           9,
           4,
           10,
           5,
           9,
           6,
           9,
           8,
           6,
           9,
           8,
           8,
           11,
           12,
           5,
           8,
           8,
           7,
           7,
           8,
           7,
           4,
           7,
           8,
           9,
           3,
           4,
           3,
           11,
           4,
           6,
           3,
           16,
           15,
           8,
           8,
           7,
           12,
           11,
           13,
           8,
           9,
           3,
           5,
           5,
           1,
           4,
           8,
           9,
           3,
           17,
           1,
           1,
           2,
           1,
           1,
           1,
           5
          ],
          "colorbar": {
           "title": {
            "text": "Weeks before #1"
           }
          },
          "colorscale": [
           [
            0,
            "#440154"
           ],
           [
            0.1111111111111111,
            "#482878"
           ],
           [
            0.2222222222222222,
            "#3e4989"
           ],
           [
            0.3333333333333333,
            "#31688e"
           ],
           [
            0.4444444444444444,
            "#26828e"
           ],
           [
            0.5555555555555556,
            "#1f9e89"
           ],
           [
            0.6666666666666666,
            "#35b779"
           ],
           [
            0.7777777777777778,
            "#6ece58"
           ],
           [
            0.8888888888888888,
            "#b5de2b"
           ],
           [
            1,
            "#fde725"
           ]
          ],
          "line": {
           "color": "DarkSlateGrey",
           "width": 2
          },
          "size": [
           9,
           9,
           7,
           7,
           7,
           9,
           7,
           8,
           8,
           10,
           7,
           9,
           7,
           7,
           10,
           9,
           8,
           13,
           7,
           7,
           7,
           8,
           13,
           7,
           7,
           11,
           8,
           7,
           14,
           8,
           7,
           8,
           8,
           16,
           14,
           11,
           14,
           8,
           11,
           13,
           10,
           12,
           11,
           7,
           10,
           9,
           7,
           10,
           9,
           8,
           12,
           9,
           9,
           12,
           9,
           7,
           9,
           10,
           14,
           10,
           9,
           7,
           7,
           8,
           7,
           7,
           10,
           7,
           12,
           14,
           9,
           7,
           10,
           14,
           9,
           8,
           11,
           12,
           7,
           7,
           8,
           9,
           10,
           8,
           7,
           12,
           10,
           12,
           9,
           14,
           7,
           12,
           16,
           11,
           8,
           10,
           12,
           7,
           8,
           11
          ]
         },
         "mode": "markers",
         "text": [
          "Bobby Darin (1960)",
          "Percy Faith And His Orchestra (1960)",
          "Bobby Lewis (1961)",
          "The Beatles (1964)",
          "Gladys Knight And The Pips (1968)",
          "The Beatles (1969)",
          "Frankie Avalon (1976)",
          "Rod Stewart (1977)",
          "Bee Gees (1978)",
          "Debby Boone (1978)",
          "Andy Gibb (1978)",
          "Kim Carnes (1981)",
          "Joan Jett & the Blackhearts (1982)",
          "Paul McCartney And Stevie Wonder (1982)",
          "Olivia Newton-John (1982)",
          "Diana Ross & Lionel Richie (1982)",
          "The Police (1983)",
          "Van Halen (1984)",
          "Bryan Adams (1991)",
          "The Escape Club (1991)",
          "Michael Jackson (1992)",
          "Janet Jackson (1993)",
          "Boyz II Men (1993)",
          "UB40 (1993)",
          "Snow (1993)",
          "All-4-One (1994)",
          "Mariah Carey (1994)",
          "Montell Jordan (1995)",
          "Boyz II Men (1995)",
          "Madonna (1995)",
          "TLC (1996)",
          "Mariah Carey (1996)",
          "Bone Thugs-N-Harmony (1996)",
          "Mariah Carey & Boyz II Men (1996)",
          "Los Del Rio (1997)",
          "Toni Braxton (1997)",
          "Elton John (1998)",
          "Mariah Carey (1998)",
          "Puff Daddy & Faith Evans Featuring 112 (1998)",
          "Brandy & Monica (1998)",
          "Santana Featuring The Product G&B (2000)",
          "Santana Featuring Rob Thomas (2000)",
          "Destiny's Child (2001)",
          "Smash Mouth (2001)",
          "Ashanti (2002)",
          "Mary J. Blige (2002)",
          "Nelly (2002)",
          "Nelly Featuring Kelly Rowland (2003)",
          "50 Cent (2003)",
          "Beyonce Featuring Jay Z (2003)",
          "Eminem (2003)",
          "OutKast (2004)",
          "Beyonce Featuring Sean Paul (2004)",
          "Usher Featuring Lil Jon & Ludacris (2004)",
          "Mario (2005)",
          "Ciara Featuring Petey Pablo (2005)",
          "50 Cent Featuring Olivia (2005)",
          "Kanye West Featuring Jamie Foxx (2006)",
          "Mariah Carey (2006)",
          "Beyonce (2007)",
          "Justin Timberlake Featuring T.I. (2007)",
          "Justin Timberlake (2007)",
          "Rihanna Featuring Jay-Z (2007)",
          "Nickelback (2008)",
          "Katy Perry (2008)",
          "Soulja Boy Tell'em (2008)",
          "Flo Rida Featuring T-Pain (2008)",
          "T.I. (2009)",
          "The Black Eyed Peas (2009)",
          "The Black Eyed Peas (2010)",
          "Ke$ha (2010)",
          "Eminem Featuring Rihanna (2011)",
          "Rihanna Featuring Calvin Harris (2012)",
          "Whitney Houston (2012)",
          "Carly Rae Jepsen (2013)",
          "Gotye Featuring Kimbra (2013)",
          "Maroon 5 (2013)",
          "Robin Thicke Featuring T.I. + Pharrell (2014)",
          "Michael Jackson (2014)",
          "Iggy Azalea Featuring Charli XCX (2014)",
          "Ellie Goulding (2014)",
          "Lorde (2014)",
          "Pharrell Williams (2014)",
          "Meghan Trainor (2015)",
          "Taylor Swift (2015)",
          "Wiz Khalifa Featuring Charlie Puth (2016)",
          "Drake Featuring WizKid & Kyla (2016)",
          "Adele (2016)",
          "Rihanna Featuring Drake (2016)",
          "Mark Ronson Featuring Bruno Mars (2016)",
          "Rae Sremmurd Featuring Gucci Mane (2017)",
          "The Chainsmokers Featuring Halsey (2017)",
          "Luis Fonsi & Daddy Yankee Featuring Justin Bieber (2018)",
          "Drake (2018)",
          "Drake (2018)",
          "Drake (2018)",
          "Ed Sheeran (2018)",
          "Ariana Grande (2019)",
          "Ariana Grande (2019)",
          "Lil Nas X Featuring Billy Ray Cyrus (2019)"
         ],
         "type": "scatter",
         "x": [
          "Mack The Knife",
          "The Theme From \"A Summer Place\"",
          "Tossin' And Turnin'",
          "I Want To Hold Your Hand",
          "I Heard It Through The Grapevine",
          "Hey Jude",
          "Venus",
          "Tonight's The Night (Gonna Be Alright)",
          "Night Fever",
          "You Light Up My Life",
          "Shadow Dancing",
          "Bette Davis Eyes",
          "I Love Rock 'N Roll",
          "Ebony And Ivory",
          "Physical",
          "Endless Love",
          "Every Breath You Take",
          "Jump",
          "(Everything I Do) I Do It For You",
          "I'll Be There",
          "Black Or White",
          "That's The Way Love Goes",
          "End Of The Road (From \"Boomerang\")",
          "Can't Help Falling In Love (From \"Sliver\")",
          "Informer",
          "I Swear",
          "Dreamlover",
          "This Is How We Do It",
          "I'll Make Love To You",
          "Take A Bow",
          "Waterfalls",
          "Fantasy",
          "Tha Crossroads",
          "One Sweet Day",
          "Macarena (Bayside Boys Mix)",
          "Un-Break My Heart",
          "Candle In The Wind 1997/Something About The Way You Look Tonight",
          "Honey",
          "I'll Be Missing You",
          "The Boy Is Mine",
          "Maria Maria",
          "Smooth",
          "Independent Women Part I",
          "I'm A Believer",
          "Foolish",
          "Family Affair",
          "Hot In Herre",
          "Dilemma",
          "In Da Club",
          "Crazy In Love",
          "Lose Yourself",
          "Hey Ya!",
          "Baby Boy",
          "Yeah!",
          "Let Me Love You",
          "Goodies",
          "Candy Shop",
          "Gold Digger",
          "We Belong Together",
          "Irreplaceable",
          "My Love",
          "SexyBack",
          "Umbrella",
          "Rockstar",
          "I Kissed A Girl",
          "Crank That (Soulja Boy)",
          "Low",
          "Whatever You Like",
          "Boom Boom Pow",
          "I Gotta Feeling",
          "TiK ToK",
          "Love The Way You Lie",
          "We Found Love",
          "I Will Always Love You",
          "Call Me Maybe",
          "Somebody That I Used To Know",
          "One More Night",
          "Blurred Lines",
          "Billie Jean",
          "Fancy",
          "Burn",
          "Royals",
          "Happy",
          "All About That Bass",
          "Blank Space",
          "See You Again",
          "One Dance",
          "Hello",
          "Work",
          "Uptown Funk!",
          "Black Beatles",
          "Closer",
          "Despacito",
          "God's Plan",
          "Nice For What",
          "In My Feelings",
          "Shape Of You",
          "Thank U, Next",
          "7 Rings",
          "Old Town Road"
         ],
         "y": [
          7,
          7,
          12,
          3,
          4,
          3,
          5,
          7,
          7,
          7,
          10,
          8,
          7,
          6,
          8,
          6,
          6,
          4,
          5,
          4,
          3,
          3,
          5,
          11,
          10,
          5,
          6,
          8,
          3,
          5,
          5,
          1,
          2,
          1,
          33,
          7,
          1,
          1,
          1,
          2,
          9,
          13,
          9,
          4,
          10,
          5,
          9,
          6,
          9,
          8,
          6,
          9,
          8,
          8,
          11,
          12,
          5,
          8,
          8,
          7,
          7,
          8,
          7,
          4,
          7,
          8,
          9,
          3,
          4,
          3,
          11,
          4,
          6,
          3,
          16,
          15,
          8,
          8,
          7,
          12,
          11,
          13,
          8,
          9,
          3,
          5,
          5,
          1,
          4,
          8,
          9,
          3,
          17,
          1,
          1,
          2,
          1,
          1,
          1,
          5
         ]
        }
       ],
       "layout": {
        "autosize": false,
        "height": 800,
        "margin": {
         "b": 300,
         "l": 50,
         "pad": 4,
         "r": 50,
         "t": 100
        },
        "template": {
         "data": {
          "bar": [
           {
            "error_x": {
             "color": "#2a3f5f"
            },
            "error_y": {
             "color": "#2a3f5f"
            },
            "marker": {
             "line": {
              "color": "#E5ECF6",
              "width": 0.5
             }
            },
            "type": "bar"
           }
          ],
          "barpolar": [
           {
            "marker": {
             "line": {
              "color": "#E5ECF6",
              "width": 0.5
             }
            },
            "type": "barpolar"
           }
          ],
          "carpet": [
           {
            "aaxis": {
             "endlinecolor": "#2a3f5f",
             "gridcolor": "white",
             "linecolor": "white",
             "minorgridcolor": "white",
             "startlinecolor": "#2a3f5f"
            },
            "baxis": {
             "endlinecolor": "#2a3f5f",
             "gridcolor": "white",
             "linecolor": "white",
             "minorgridcolor": "white",
             "startlinecolor": "#2a3f5f"
            },
            "type": "carpet"
           }
          ],
          "choropleth": [
           {
            "colorbar": {
             "outlinewidth": 0,
             "ticks": ""
            },
            "type": "choropleth"
           }
          ],
          "contour": [
           {
            "colorbar": {
             "outlinewidth": 0,
             "ticks": ""
            },
            "colorscale": [
             [
              0,
              "#0d0887"
             ],
             [
              0.1111111111111111,
              "#46039f"
             ],
             [
              0.2222222222222222,
              "#7201a8"
             ],
             [
              0.3333333333333333,
              "#9c179e"
             ],
             [
              0.4444444444444444,
              "#bd3786"
             ],
             [
              0.5555555555555556,
              "#d8576b"
             ],
             [
              0.6666666666666666,
              "#ed7953"
             ],
             [
              0.7777777777777778,
              "#fb9f3a"
             ],
             [
              0.8888888888888888,
              "#fdca26"
             ],
             [
              1,
              "#f0f921"
             ]
            ],
            "type": "contour"
           }
          ],
          "contourcarpet": [
           {
            "colorbar": {
             "outlinewidth": 0,
             "ticks": ""
            },
            "type": "contourcarpet"
           }
          ],
          "heatmap": [
           {
            "colorbar": {
             "outlinewidth": 0,
             "ticks": ""
            },
            "colorscale": [
             [
              0,
              "#0d0887"
             ],
             [
              0.1111111111111111,
              "#46039f"
             ],
             [
              0.2222222222222222,
              "#7201a8"
             ],
             [
              0.3333333333333333,
              "#9c179e"
             ],
             [
              0.4444444444444444,
              "#bd3786"
             ],
             [
              0.5555555555555556,
              "#d8576b"
             ],
             [
              0.6666666666666666,
              "#ed7953"
             ],
             [
              0.7777777777777778,
              "#fb9f3a"
             ],
             [
              0.8888888888888888,
              "#fdca26"
             ],
             [
              1,
              "#f0f921"
             ]
            ],
            "type": "heatmap"
           }
          ],
          "heatmapgl": [
           {
            "colorbar": {
             "outlinewidth": 0,
             "ticks": ""
            },
            "colorscale": [
             [
              0,
              "#0d0887"
             ],
             [
              0.1111111111111111,
              "#46039f"
             ],
             [
              0.2222222222222222,
              "#7201a8"
             ],
             [
              0.3333333333333333,
              "#9c179e"
             ],
             [
              0.4444444444444444,
              "#bd3786"
             ],
             [
              0.5555555555555556,
              "#d8576b"
             ],
             [
              0.6666666666666666,
              "#ed7953"
             ],
             [
              0.7777777777777778,
              "#fb9f3a"
             ],
             [
              0.8888888888888888,
              "#fdca26"
             ],
             [
              1,
              "#f0f921"
             ]
            ],
            "type": "heatmapgl"
           }
          ],
          "histogram": [
           {
            "marker": {
             "colorbar": {
              "outlinewidth": 0,
              "ticks": ""
             }
            },
            "type": "histogram"
           }
          ],
          "histogram2d": [
           {
            "colorbar": {
             "outlinewidth": 0,
             "ticks": ""
            },
            "colorscale": [
             [
              0,
              "#0d0887"
             ],
             [
              0.1111111111111111,
              "#46039f"
             ],
             [
              0.2222222222222222,
              "#7201a8"
             ],
             [
              0.3333333333333333,
              "#9c179e"
             ],
             [
              0.4444444444444444,
              "#bd3786"
             ],
             [
              0.5555555555555556,
              "#d8576b"
             ],
             [
              0.6666666666666666,
              "#ed7953"
             ],
             [
              0.7777777777777778,
              "#fb9f3a"
             ],
             [
              0.8888888888888888,
              "#fdca26"
             ],
             [
              1,
              "#f0f921"
             ]
            ],
            "type": "histogram2d"
           }
          ],
          "histogram2dcontour": [
           {
            "colorbar": {
             "outlinewidth": 0,
             "ticks": ""
            },
            "colorscale": [
             [
              0,
              "#0d0887"
             ],
             [
              0.1111111111111111,
              "#46039f"
             ],
             [
              0.2222222222222222,
              "#7201a8"
             ],
             [
              0.3333333333333333,
              "#9c179e"
             ],
             [
              0.4444444444444444,
              "#bd3786"
             ],
             [
              0.5555555555555556,
              "#d8576b"
             ],
             [
              0.6666666666666666,
              "#ed7953"
             ],
             [
              0.7777777777777778,
              "#fb9f3a"
             ],
             [
              0.8888888888888888,
              "#fdca26"
             ],
             [
              1,
              "#f0f921"
             ]
            ],
            "type": "histogram2dcontour"
           }
          ],
          "mesh3d": [
           {
            "colorbar": {
             "outlinewidth": 0,
             "ticks": ""
            },
            "type": "mesh3d"
           }
          ],
          "parcoords": [
           {
            "line": {
             "colorbar": {
              "outlinewidth": 0,
              "ticks": ""
             }
            },
            "type": "parcoords"
           }
          ],
          "scatter": [
           {
            "marker": {
             "colorbar": {
              "outlinewidth": 0,
              "ticks": ""
             }
            },
            "type": "scatter"
           }
          ],
          "scatter3d": [
           {
            "line": {
             "colorbar": {
              "outlinewidth": 0,
              "ticks": ""
             }
            },
            "marker": {
             "colorbar": {
              "outlinewidth": 0,
              "ticks": ""
             }
            },
            "type": "scatter3d"
           }
          ],
          "scattercarpet": [
           {
            "marker": {
             "colorbar": {
              "outlinewidth": 0,
              "ticks": ""
             }
            },
            "type": "scattercarpet"
           }
          ],
          "scattergeo": [
           {
            "marker": {
             "colorbar": {
              "outlinewidth": 0,
              "ticks": ""
             }
            },
            "type": "scattergeo"
           }
          ],
          "scattergl": [
           {
            "marker": {
             "colorbar": {
              "outlinewidth": 0,
              "ticks": ""
             }
            },
            "type": "scattergl"
           }
          ],
          "scattermapbox": [
           {
            "marker": {
             "colorbar": {
              "outlinewidth": 0,
              "ticks": ""
             }
            },
            "type": "scattermapbox"
           }
          ],
          "scatterpolar": [
           {
            "marker": {
             "colorbar": {
              "outlinewidth": 0,
              "ticks": ""
             }
            },
            "type": "scatterpolar"
           }
          ],
          "scatterpolargl": [
           {
            "marker": {
             "colorbar": {
              "outlinewidth": 0,
              "ticks": ""
             }
            },
            "type": "scatterpolargl"
           }
          ],
          "scatterternary": [
           {
            "marker": {
             "colorbar": {
              "outlinewidth": 0,
              "ticks": ""
             }
            },
            "type": "scatterternary"
           }
          ],
          "surface": [
           {
            "colorbar": {
             "outlinewidth": 0,
             "ticks": ""
            },
            "colorscale": [
             [
              0,
              "#0d0887"
             ],
             [
              0.1111111111111111,
              "#46039f"
             ],
             [
              0.2222222222222222,
              "#7201a8"
             ],
             [
              0.3333333333333333,
              "#9c179e"
             ],
             [
              0.4444444444444444,
              "#bd3786"
             ],
             [
              0.5555555555555556,
              "#d8576b"
             ],
             [
              0.6666666666666666,
              "#ed7953"
             ],
             [
              0.7777777777777778,
              "#fb9f3a"
             ],
             [
              0.8888888888888888,
              "#fdca26"
             ],
             [
              1,
              "#f0f921"
             ]
            ],
            "type": "surface"
           }
          ],
          "table": [
           {
            "cells": {
             "fill": {
              "color": "#EBF0F8"
             },
             "line": {
              "color": "white"
             }
            },
            "header": {
             "fill": {
              "color": "#C8D4E3"
             },
             "line": {
              "color": "white"
             }
            },
            "type": "table"
           }
          ]
         },
         "layout": {
          "annotationdefaults": {
           "arrowcolor": "#2a3f5f",
           "arrowhead": 0,
           "arrowwidth": 1
          },
          "colorscale": {
           "diverging": [
            [
             0,
             "#8e0152"
            ],
            [
             0.1,
             "#c51b7d"
            ],
            [
             0.2,
             "#de77ae"
            ],
            [
             0.3,
             "#f1b6da"
            ],
            [
             0.4,
             "#fde0ef"
            ],
            [
             0.5,
             "#f7f7f7"
            ],
            [
             0.6,
             "#e6f5d0"
            ],
            [
             0.7,
             "#b8e186"
            ],
            [
             0.8,
             "#7fbc41"
            ],
            [
             0.9,
             "#4d9221"
            ],
            [
             1,
             "#276419"
            ]
           ],
           "sequential": [
            [
             0,
             "#0d0887"
            ],
            [
             0.1111111111111111,
             "#46039f"
            ],
            [
             0.2222222222222222,
             "#7201a8"
            ],
            [
             0.3333333333333333,
             "#9c179e"
            ],
            [
             0.4444444444444444,
             "#bd3786"
            ],
            [
             0.5555555555555556,
             "#d8576b"
            ],
            [
             0.6666666666666666,
             "#ed7953"
            ],
            [
             0.7777777777777778,
             "#fb9f3a"
            ],
            [
             0.8888888888888888,
             "#fdca26"
            ],
            [
             1,
             "#f0f921"
            ]
           ],
           "sequentialminus": [
            [
             0,
             "#0d0887"
            ],
            [
             0.1111111111111111,
             "#46039f"
            ],
            [
             0.2222222222222222,
             "#7201a8"
            ],
            [
             0.3333333333333333,
             "#9c179e"
            ],
            [
             0.4444444444444444,
             "#bd3786"
            ],
            [
             0.5555555555555556,
             "#d8576b"
            ],
            [
             0.6666666666666666,
             "#ed7953"
            ],
            [
             0.7777777777777778,
             "#fb9f3a"
            ],
            [
             0.8888888888888888,
             "#fdca26"
            ],
            [
             1,
             "#f0f921"
            ]
           ]
          },
          "colorway": [
           "#636efa",
           "#EF553B",
           "#00cc96",
           "#ab63fa",
           "#FFA15A",
           "#19d3f3",
           "#FF6692",
           "#B6E880",
           "#FF97FF",
           "#FECB52"
          ],
          "font": {
           "color": "#2a3f5f"
          },
          "geo": {
           "bgcolor": "white",
           "lakecolor": "white",
           "landcolor": "#E5ECF6",
           "showlakes": true,
           "showland": true,
           "subunitcolor": "white"
          },
          "hoverlabel": {
           "align": "left"
          },
          "hovermode": "closest",
          "mapbox": {
           "style": "light"
          },
          "paper_bgcolor": "white",
          "plot_bgcolor": "#E5ECF6",
          "polar": {
           "angularaxis": {
            "gridcolor": "white",
            "linecolor": "white",
            "ticks": ""
           },
           "bgcolor": "#E5ECF6",
           "radialaxis": {
            "gridcolor": "white",
            "linecolor": "white",
            "ticks": ""
           }
          },
          "scene": {
           "xaxis": {
            "backgroundcolor": "#E5ECF6",
            "gridcolor": "white",
            "gridwidth": 2,
            "linecolor": "white",
            "showbackground": true,
            "ticks": "",
            "zerolinecolor": "white"
           },
           "yaxis": {
            "backgroundcolor": "#E5ECF6",
            "gridcolor": "white",
            "gridwidth": 2,
            "linecolor": "white",
            "showbackground": true,
            "ticks": "",
            "zerolinecolor": "white"
           },
           "zaxis": {
            "backgroundcolor": "#E5ECF6",
            "gridcolor": "white",
            "gridwidth": 2,
            "linecolor": "white",
            "showbackground": true,
            "ticks": "",
            "zerolinecolor": "white"
           }
          },
          "shapedefaults": {
           "line": {
            "color": "#2a3f5f"
           }
          },
          "ternary": {
           "aaxis": {
            "gridcolor": "white",
            "linecolor": "white",
            "ticks": ""
           },
           "baxis": {
            "gridcolor": "white",
            "linecolor": "white",
            "ticks": ""
           },
           "bgcolor": "#E5ECF6",
           "caxis": {
            "gridcolor": "white",
            "linecolor": "white",
            "ticks": ""
           }
          },
          "title": {
           "x": 0.05
          },
          "xaxis": {
           "automargin": true,
           "gridcolor": "white",
           "linecolor": "white",
           "ticks": "",
           "zerolinecolor": "white",
           "zerolinewidth": 2
          },
          "yaxis": {
           "automargin": true,
           "gridcolor": "white",
           "linecolor": "white",
           "ticks": "",
           "zerolinecolor": "white",
           "zerolinewidth": 2
          }
         }
        },
        "title": {
         "text": "Top 100 Billboard #1 Songs in terms of Weeks before #1 and #1 Streak",
         "x": 0.5,
         "xanchor": "center",
         "y": 0.9,
         "yanchor": "top"
        },
        "width": 1000,
        "xaxis": {
         "tickangle": 45,
         "title": {
          "text": "Song"
         }
        },
        "yaxis": {
         "title": {
          "text": "Weeks before #1"
         }
        }
       }
      },
      "text/html": [
       "<div>\n",
       "        \n",
       "        \n",
       "            <div id=\"fa1cd7ab-dbf5-4130-b362-16b5a3a9df26\" class=\"plotly-graph-div\" style=\"height:800px; width:1000px;\"></div>\n",
       "            <script type=\"text/javascript\">\n",
       "                require([\"plotly\"], function(Plotly) {\n",
       "                    window.PLOTLYENV=window.PLOTLYENV || {};\n",
       "                    \n",
       "                if (document.getElementById(\"fa1cd7ab-dbf5-4130-b362-16b5a3a9df26\")) {\n",
       "                    Plotly.newPlot(\n",
       "                        'fa1cd7ab-dbf5-4130-b362-16b5a3a9df26',\n",
       "                        [{\"hovertemplate\": \"<b>%{x}</b><br><i>%{text}</i><br><br>Weeks before #1: %{y}<br>#1 Streak: %{marker.size}\", \"marker\": {\"cmax\": 15, \"cmin\": 5, \"color\": [7, 7, 12, 3, 4, 3, 5, 7, 7, 7, 10, 8, 7, 6, 8, 6, 6, 4, 5, 4, 3, 3, 5, 11, 10, 5, 6, 8, 3, 5, 5, 1, 2, 1, 33, 7, 1, 1, 1, 2, 9, 13, 9, 4, 10, 5, 9, 6, 9, 8, 6, 9, 8, 8, 11, 12, 5, 8, 8, 7, 7, 8, 7, 4, 7, 8, 9, 3, 4, 3, 11, 4, 6, 3, 16, 15, 8, 8, 7, 12, 11, 13, 8, 9, 3, 5, 5, 1, 4, 8, 9, 3, 17, 1, 1, 2, 1, 1, 1, 5], \"colorbar\": {\"title\": {\"text\": \"Weeks before #1\"}}, \"colorscale\": [[0.0, \"#440154\"], [0.1111111111111111, \"#482878\"], [0.2222222222222222, \"#3e4989\"], [0.3333333333333333, \"#31688e\"], [0.4444444444444444, \"#26828e\"], [0.5555555555555556, \"#1f9e89\"], [0.6666666666666666, \"#35b779\"], [0.7777777777777778, \"#6ece58\"], [0.8888888888888888, \"#b5de2b\"], [1.0, \"#fde725\"]], \"line\": {\"color\": \"DarkSlateGrey\", \"width\": 2}, \"size\": [9, 9, 7, 7, 7, 9, 7, 8, 8, 10, 7, 9, 7, 7, 10, 9, 8, 13, 7, 7, 7, 8, 13, 7, 7, 11, 8, 7, 14, 8, 7, 8, 8, 16, 14, 11, 14, 8, 11, 13, 10, 12, 11, 7, 10, 9, 7, 10, 9, 8, 12, 9, 9, 12, 9, 7, 9, 10, 14, 10, 9, 7, 7, 8, 7, 7, 10, 7, 12, 14, 9, 7, 10, 14, 9, 8, 11, 12, 7, 7, 8, 9, 10, 8, 7, 12, 10, 12, 9, 14, 7, 12, 16, 11, 8, 10, 12, 7, 8, 11]}, \"mode\": \"markers\", \"text\": [\"Bobby Darin (1960)\", \"Percy Faith And His Orchestra (1960)\", \"Bobby Lewis (1961)\", \"The Beatles (1964)\", \"Gladys Knight And The Pips (1968)\", \"The Beatles (1969)\", \"Frankie Avalon (1976)\", \"Rod Stewart (1977)\", \"Bee Gees (1978)\", \"Debby Boone (1978)\", \"Andy Gibb (1978)\", \"Kim Carnes (1981)\", \"Joan Jett & the Blackhearts (1982)\", \"Paul McCartney And Stevie Wonder (1982)\", \"Olivia Newton-John (1982)\", \"Diana Ross & Lionel Richie (1982)\", \"The Police (1983)\", \"Van Halen (1984)\", \"Bryan Adams (1991)\", \"The Escape Club (1991)\", \"Michael Jackson (1992)\", \"Janet Jackson (1993)\", \"Boyz II Men (1993)\", \"UB40 (1993)\", \"Snow (1993)\", \"All-4-One (1994)\", \"Mariah Carey (1994)\", \"Montell Jordan (1995)\", \"Boyz II Men (1995)\", \"Madonna (1995)\", \"TLC (1996)\", \"Mariah Carey (1996)\", \"Bone Thugs-N-Harmony (1996)\", \"Mariah Carey & Boyz II Men (1996)\", \"Los Del Rio (1997)\", \"Toni Braxton (1997)\", \"Elton John (1998)\", \"Mariah Carey (1998)\", \"Puff Daddy & Faith Evans Featuring 112 (1998)\", \"Brandy & Monica (1998)\", \"Santana Featuring The Product G&B (2000)\", \"Santana Featuring Rob Thomas (2000)\", \"Destiny's Child (2001)\", \"Smash Mouth (2001)\", \"Ashanti (2002)\", \"Mary J. Blige (2002)\", \"Nelly (2002)\", \"Nelly Featuring Kelly Rowland (2003)\", \"50 Cent (2003)\", \"Beyonce Featuring Jay Z (2003)\", \"Eminem (2003)\", \"OutKast (2004)\", \"Beyonce Featuring Sean Paul (2004)\", \"Usher Featuring Lil Jon & Ludacris (2004)\", \"Mario (2005)\", \"Ciara Featuring Petey Pablo (2005)\", \"50 Cent Featuring Olivia (2005)\", \"Kanye West Featuring Jamie Foxx (2006)\", \"Mariah Carey (2006)\", \"Beyonce (2007)\", \"Justin Timberlake Featuring T.I. (2007)\", \"Justin Timberlake (2007)\", \"Rihanna Featuring Jay-Z (2007)\", \"Nickelback (2008)\", \"Katy Perry (2008)\", \"Soulja Boy Tell'em (2008)\", \"Flo Rida Featuring T-Pain (2008)\", \"T.I. (2009)\", \"The Black Eyed Peas (2009)\", \"The Black Eyed Peas (2010)\", \"Ke$ha (2010)\", \"Eminem Featuring Rihanna (2011)\", \"Rihanna Featuring Calvin Harris (2012)\", \"Whitney Houston (2012)\", \"Carly Rae Jepsen (2013)\", \"Gotye Featuring Kimbra (2013)\", \"Maroon 5 (2013)\", \"Robin Thicke Featuring T.I. + Pharrell (2014)\", \"Michael Jackson (2014)\", \"Iggy Azalea Featuring Charli XCX (2014)\", \"Ellie Goulding (2014)\", \"Lorde (2014)\", \"Pharrell Williams (2014)\", \"Meghan Trainor (2015)\", \"Taylor Swift (2015)\", \"Wiz Khalifa Featuring Charlie Puth (2016)\", \"Drake Featuring WizKid & Kyla (2016)\", \"Adele (2016)\", \"Rihanna Featuring Drake (2016)\", \"Mark Ronson Featuring Bruno Mars (2016)\", \"Rae Sremmurd Featuring Gucci Mane (2017)\", \"The Chainsmokers Featuring Halsey (2017)\", \"Luis Fonsi & Daddy Yankee Featuring Justin Bieber (2018)\", \"Drake (2018)\", \"Drake (2018)\", \"Drake (2018)\", \"Ed Sheeran (2018)\", \"Ariana Grande (2019)\", \"Ariana Grande (2019)\", \"Lil Nas X Featuring Billy Ray Cyrus (2019)\"], \"type\": \"scatter\", \"x\": [\"Mack The Knife\", \"The Theme From \\\"A Summer Place\\\"\", \"Tossin' And Turnin'\", \"I Want To Hold Your Hand\", \"I Heard It Through The Grapevine\", \"Hey Jude\", \"Venus\", \"Tonight's The Night (Gonna Be Alright)\", \"Night Fever\", \"You Light Up My Life\", \"Shadow Dancing\", \"Bette Davis Eyes\", \"I Love Rock 'N Roll\", \"Ebony And Ivory\", \"Physical\", \"Endless Love\", \"Every Breath You Take\", \"Jump\", \"(Everything I Do) I Do It For You\", \"I'll Be There\", \"Black Or White\", \"That's The Way Love Goes\", \"End Of The Road (From \\\"Boomerang\\\")\", \"Can't Help Falling In Love (From \\\"Sliver\\\")\", \"Informer\", \"I Swear\", \"Dreamlover\", \"This Is How We Do It\", \"I'll Make Love To You\", \"Take A Bow\", \"Waterfalls\", \"Fantasy\", \"Tha Crossroads\", \"One Sweet Day\", \"Macarena (Bayside Boys Mix)\", \"Un-Break My Heart\", \"Candle In The Wind 1997/Something About The Way You Look Tonight\", \"Honey\", \"I'll Be Missing You\", \"The Boy Is Mine\", \"Maria Maria\", \"Smooth\", \"Independent Women Part I\", \"I'm A Believer\", \"Foolish\", \"Family Affair\", \"Hot In Herre\", \"Dilemma\", \"In Da Club\", \"Crazy In Love\", \"Lose Yourself\", \"Hey Ya!\", \"Baby Boy\", \"Yeah!\", \"Let Me Love You\", \"Goodies\", \"Candy Shop\", \"Gold Digger\", \"We Belong Together\", \"Irreplaceable\", \"My Love\", \"SexyBack\", \"Umbrella\", \"Rockstar\", \"I Kissed A Girl\", \"Crank That (Soulja Boy)\", \"Low\", \"Whatever You Like\", \"Boom Boom Pow\", \"I Gotta Feeling\", \"TiK ToK\", \"Love The Way You Lie\", \"We Found Love\", \"I Will Always Love You\", \"Call Me Maybe\", \"Somebody That I Used To Know\", \"One More Night\", \"Blurred Lines\", \"Billie Jean\", \"Fancy\", \"Burn\", \"Royals\", \"Happy\", \"All About That Bass\", \"Blank Space\", \"See You Again\", \"One Dance\", \"Hello\", \"Work\", \"Uptown Funk!\", \"Black Beatles\", \"Closer\", \"Despacito\", \"God's Plan\", \"Nice For What\", \"In My Feelings\", \"Shape Of You\", \"Thank U, Next\", \"7 Rings\", \"Old Town Road\"], \"y\": [7, 7, 12, 3, 4, 3, 5, 7, 7, 7, 10, 8, 7, 6, 8, 6, 6, 4, 5, 4, 3, 3, 5, 11, 10, 5, 6, 8, 3, 5, 5, 1, 2, 1, 33, 7, 1, 1, 1, 2, 9, 13, 9, 4, 10, 5, 9, 6, 9, 8, 6, 9, 8, 8, 11, 12, 5, 8, 8, 7, 7, 8, 7, 4, 7, 8, 9, 3, 4, 3, 11, 4, 6, 3, 16, 15, 8, 8, 7, 12, 11, 13, 8, 9, 3, 5, 5, 1, 4, 8, 9, 3, 17, 1, 1, 2, 1, 1, 1, 5]}],\n",
       "                        {\"autosize\": false, \"height\": 800, \"margin\": {\"b\": 300, \"l\": 50, \"pad\": 4, \"r\": 50, \"t\": 100}, \"template\": {\"data\": {\"bar\": [{\"error_x\": {\"color\": \"#2a3f5f\"}, \"error_y\": {\"color\": \"#2a3f5f\"}, \"marker\": {\"line\": {\"color\": \"#E5ECF6\", \"width\": 0.5}}, \"type\": \"bar\"}], \"barpolar\": [{\"marker\": {\"line\": {\"color\": \"#E5ECF6\", \"width\": 0.5}}, \"type\": \"barpolar\"}], \"carpet\": [{\"aaxis\": {\"endlinecolor\": \"#2a3f5f\", \"gridcolor\": \"white\", \"linecolor\": \"white\", \"minorgridcolor\": \"white\", \"startlinecolor\": \"#2a3f5f\"}, \"baxis\": {\"endlinecolor\": \"#2a3f5f\", \"gridcolor\": \"white\", \"linecolor\": \"white\", \"minorgridcolor\": \"white\", \"startlinecolor\": \"#2a3f5f\"}, \"type\": \"carpet\"}], \"choropleth\": [{\"colorbar\": {\"outlinewidth\": 0, \"ticks\": \"\"}, \"type\": \"choropleth\"}], \"contour\": [{\"colorbar\": {\"outlinewidth\": 0, \"ticks\": \"\"}, \"colorscale\": [[0.0, \"#0d0887\"], [0.1111111111111111, \"#46039f\"], [0.2222222222222222, \"#7201a8\"], [0.3333333333333333, \"#9c179e\"], [0.4444444444444444, \"#bd3786\"], [0.5555555555555556, \"#d8576b\"], [0.6666666666666666, \"#ed7953\"], [0.7777777777777778, \"#fb9f3a\"], [0.8888888888888888, \"#fdca26\"], [1.0, \"#f0f921\"]], \"type\": \"contour\"}], \"contourcarpet\": [{\"colorbar\": {\"outlinewidth\": 0, \"ticks\": \"\"}, \"type\": \"contourcarpet\"}], \"heatmap\": [{\"colorbar\": {\"outlinewidth\": 0, \"ticks\": \"\"}, \"colorscale\": [[0.0, \"#0d0887\"], [0.1111111111111111, \"#46039f\"], [0.2222222222222222, \"#7201a8\"], [0.3333333333333333, \"#9c179e\"], [0.4444444444444444, \"#bd3786\"], [0.5555555555555556, \"#d8576b\"], [0.6666666666666666, \"#ed7953\"], [0.7777777777777778, \"#fb9f3a\"], [0.8888888888888888, \"#fdca26\"], [1.0, \"#f0f921\"]], \"type\": \"heatmap\"}], \"heatmapgl\": [{\"colorbar\": {\"outlinewidth\": 0, \"ticks\": \"\"}, \"colorscale\": [[0.0, \"#0d0887\"], [0.1111111111111111, \"#46039f\"], [0.2222222222222222, \"#7201a8\"], [0.3333333333333333, \"#9c179e\"], [0.4444444444444444, \"#bd3786\"], [0.5555555555555556, \"#d8576b\"], [0.6666666666666666, \"#ed7953\"], [0.7777777777777778, \"#fb9f3a\"], [0.8888888888888888, \"#fdca26\"], [1.0, \"#f0f921\"]], \"type\": \"heatmapgl\"}], \"histogram\": [{\"marker\": {\"colorbar\": {\"outlinewidth\": 0, \"ticks\": \"\"}}, \"type\": \"histogram\"}], \"histogram2d\": [{\"colorbar\": {\"outlinewidth\": 0, \"ticks\": \"\"}, \"colorscale\": [[0.0, \"#0d0887\"], [0.1111111111111111, \"#46039f\"], [0.2222222222222222, \"#7201a8\"], [0.3333333333333333, \"#9c179e\"], [0.4444444444444444, \"#bd3786\"], [0.5555555555555556, \"#d8576b\"], [0.6666666666666666, \"#ed7953\"], [0.7777777777777778, \"#fb9f3a\"], [0.8888888888888888, \"#fdca26\"], [1.0, \"#f0f921\"]], \"type\": \"histogram2d\"}], \"histogram2dcontour\": [{\"colorbar\": {\"outlinewidth\": 0, \"ticks\": \"\"}, \"colorscale\": [[0.0, \"#0d0887\"], [0.1111111111111111, \"#46039f\"], [0.2222222222222222, \"#7201a8\"], [0.3333333333333333, \"#9c179e\"], [0.4444444444444444, \"#bd3786\"], [0.5555555555555556, \"#d8576b\"], [0.6666666666666666, \"#ed7953\"], [0.7777777777777778, \"#fb9f3a\"], [0.8888888888888888, \"#fdca26\"], [1.0, \"#f0f921\"]], \"type\": \"histogram2dcontour\"}], \"mesh3d\": [{\"colorbar\": {\"outlinewidth\": 0, \"ticks\": \"\"}, \"type\": \"mesh3d\"}], \"parcoords\": [{\"line\": {\"colorbar\": {\"outlinewidth\": 0, \"ticks\": \"\"}}, \"type\": \"parcoords\"}], \"scatter\": [{\"marker\": {\"colorbar\": {\"outlinewidth\": 0, \"ticks\": \"\"}}, \"type\": \"scatter\"}], \"scatter3d\": [{\"line\": {\"colorbar\": {\"outlinewidth\": 0, \"ticks\": \"\"}}, \"marker\": {\"colorbar\": {\"outlinewidth\": 0, \"ticks\": \"\"}}, \"type\": \"scatter3d\"}], \"scattercarpet\": [{\"marker\": {\"colorbar\": {\"outlinewidth\": 0, \"ticks\": \"\"}}, \"type\": \"scattercarpet\"}], \"scattergeo\": [{\"marker\": {\"colorbar\": {\"outlinewidth\": 0, \"ticks\": \"\"}}, \"type\": \"scattergeo\"}], \"scattergl\": [{\"marker\": {\"colorbar\": {\"outlinewidth\": 0, \"ticks\": \"\"}}, \"type\": \"scattergl\"}], \"scattermapbox\": [{\"marker\": {\"colorbar\": {\"outlinewidth\": 0, \"ticks\": \"\"}}, \"type\": \"scattermapbox\"}], \"scatterpolar\": [{\"marker\": {\"colorbar\": {\"outlinewidth\": 0, \"ticks\": \"\"}}, \"type\": \"scatterpolar\"}], \"scatterpolargl\": [{\"marker\": {\"colorbar\": {\"outlinewidth\": 0, \"ticks\": \"\"}}, \"type\": \"scatterpolargl\"}], \"scatterternary\": [{\"marker\": {\"colorbar\": {\"outlinewidth\": 0, \"ticks\": \"\"}}, \"type\": \"scatterternary\"}], \"surface\": [{\"colorbar\": {\"outlinewidth\": 0, \"ticks\": \"\"}, \"colorscale\": [[0.0, \"#0d0887\"], [0.1111111111111111, \"#46039f\"], [0.2222222222222222, \"#7201a8\"], [0.3333333333333333, \"#9c179e\"], [0.4444444444444444, \"#bd3786\"], [0.5555555555555556, \"#d8576b\"], [0.6666666666666666, \"#ed7953\"], [0.7777777777777778, \"#fb9f3a\"], [0.8888888888888888, \"#fdca26\"], [1.0, \"#f0f921\"]], \"type\": \"surface\"}], \"table\": [{\"cells\": {\"fill\": {\"color\": \"#EBF0F8\"}, \"line\": {\"color\": \"white\"}}, \"header\": {\"fill\": {\"color\": \"#C8D4E3\"}, \"line\": {\"color\": \"white\"}}, \"type\": \"table\"}]}, \"layout\": {\"annotationdefaults\": {\"arrowcolor\": \"#2a3f5f\", \"arrowhead\": 0, \"arrowwidth\": 1}, \"colorscale\": {\"diverging\": [[0, \"#8e0152\"], [0.1, \"#c51b7d\"], [0.2, \"#de77ae\"], [0.3, \"#f1b6da\"], [0.4, \"#fde0ef\"], [0.5, \"#f7f7f7\"], [0.6, \"#e6f5d0\"], [0.7, \"#b8e186\"], [0.8, \"#7fbc41\"], [0.9, \"#4d9221\"], [1, \"#276419\"]], \"sequential\": [[0.0, \"#0d0887\"], [0.1111111111111111, \"#46039f\"], [0.2222222222222222, \"#7201a8\"], [0.3333333333333333, \"#9c179e\"], [0.4444444444444444, \"#bd3786\"], [0.5555555555555556, \"#d8576b\"], [0.6666666666666666, \"#ed7953\"], [0.7777777777777778, \"#fb9f3a\"], [0.8888888888888888, \"#fdca26\"], [1.0, \"#f0f921\"]], \"sequentialminus\": [[0.0, \"#0d0887\"], [0.1111111111111111, \"#46039f\"], [0.2222222222222222, \"#7201a8\"], [0.3333333333333333, \"#9c179e\"], [0.4444444444444444, \"#bd3786\"], [0.5555555555555556, \"#d8576b\"], [0.6666666666666666, \"#ed7953\"], [0.7777777777777778, \"#fb9f3a\"], [0.8888888888888888, \"#fdca26\"], [1.0, \"#f0f921\"]]}, \"colorway\": [\"#636efa\", \"#EF553B\", \"#00cc96\", \"#ab63fa\", \"#FFA15A\", \"#19d3f3\", \"#FF6692\", \"#B6E880\", \"#FF97FF\", \"#FECB52\"], \"font\": {\"color\": \"#2a3f5f\"}, \"geo\": {\"bgcolor\": \"white\", \"lakecolor\": \"white\", \"landcolor\": \"#E5ECF6\", \"showlakes\": true, \"showland\": true, \"subunitcolor\": \"white\"}, \"hoverlabel\": {\"align\": \"left\"}, \"hovermode\": \"closest\", \"mapbox\": {\"style\": \"light\"}, \"paper_bgcolor\": \"white\", \"plot_bgcolor\": \"#E5ECF6\", \"polar\": {\"angularaxis\": {\"gridcolor\": \"white\", \"linecolor\": \"white\", \"ticks\": \"\"}, \"bgcolor\": \"#E5ECF6\", \"radialaxis\": {\"gridcolor\": \"white\", \"linecolor\": \"white\", \"ticks\": \"\"}}, \"scene\": {\"xaxis\": {\"backgroundcolor\": \"#E5ECF6\", \"gridcolor\": \"white\", \"gridwidth\": 2, \"linecolor\": \"white\", \"showbackground\": true, \"ticks\": \"\", \"zerolinecolor\": \"white\"}, \"yaxis\": {\"backgroundcolor\": \"#E5ECF6\", \"gridcolor\": \"white\", \"gridwidth\": 2, \"linecolor\": \"white\", \"showbackground\": true, \"ticks\": \"\", \"zerolinecolor\": \"white\"}, \"zaxis\": {\"backgroundcolor\": \"#E5ECF6\", \"gridcolor\": \"white\", \"gridwidth\": 2, \"linecolor\": \"white\", \"showbackground\": true, \"ticks\": \"\", \"zerolinecolor\": \"white\"}}, \"shapedefaults\": {\"line\": {\"color\": \"#2a3f5f\"}}, \"ternary\": {\"aaxis\": {\"gridcolor\": \"white\", \"linecolor\": \"white\", \"ticks\": \"\"}, \"baxis\": {\"gridcolor\": \"white\", \"linecolor\": \"white\", \"ticks\": \"\"}, \"bgcolor\": \"#E5ECF6\", \"caxis\": {\"gridcolor\": \"white\", \"linecolor\": \"white\", \"ticks\": \"\"}}, \"title\": {\"x\": 0.05}, \"xaxis\": {\"automargin\": true, \"gridcolor\": \"white\", \"linecolor\": \"white\", \"ticks\": \"\", \"zerolinecolor\": \"white\", \"zerolinewidth\": 2}, \"yaxis\": {\"automargin\": true, \"gridcolor\": \"white\", \"linecolor\": \"white\", \"ticks\": \"\", \"zerolinecolor\": \"white\", \"zerolinewidth\": 2}}}, \"title\": {\"text\": \"Top 100 Billboard #1 Songs in terms of Weeks before #1 and #1 Streak\", \"x\": 0.5, \"xanchor\": \"center\", \"y\": 0.9, \"yanchor\": \"top\"}, \"width\": 1000, \"xaxis\": {\"tickangle\": 45, \"title\": {\"text\": \"Song\"}}, \"yaxis\": {\"title\": {\"text\": \"Weeks before #1\"}}},\n",
       "                        {\"responsive\": true}\n",
       "                    ).then(function(){\n",
       "                            \n",
       "var gd = document.getElementById('fa1cd7ab-dbf5-4130-b362-16b5a3a9df26');\n",
       "var x = new MutationObserver(function (mutations, observer) {{\n",
       "        var display = window.getComputedStyle(gd).display;\n",
       "        if (!display || display === 'none') {{\n",
       "            console.log([gd, 'removed!']);\n",
       "            Plotly.purge(gd);\n",
       "            observer.disconnect();\n",
       "        }}\n",
       "}});\n",
       "\n",
       "// Listen for the removal of the full notebook cells\n",
       "var notebookContainer = gd.closest('#notebook-container');\n",
       "if (notebookContainer) {{\n",
       "    x.observe(notebookContainer, {childList: true});\n",
       "}}\n",
       "\n",
       "// Listen for the clearing of the current output cell\n",
       "var outputEl = gd.closest('.output');\n",
       "if (outputEl) {{\n",
       "    x.observe(outputEl, {childList: true});\n",
       "}}\n",
       "\n",
       "                        })\n",
       "                };\n",
       "                });\n",
       "            </script>\n",
       "        </div>"
      ]
     },
     "metadata": {},
     "output_type": "display_data"
    }
   ],
   "source": [
    "# create bubble chart\n",
    "# stackoverflow link: https://plot.ly/python/bubble-charts/\n",
    "# plotly colorscale: https://plot.ly/python/v3/matplotlib-colorscales/\n",
    "bboard_song_velocity_top100 = pd.read_csv('tmp_data/bboard_song_velocity_top100.csv')\n",
    "bboard_song_velocity_top100 = bboard_song_velocity_top100.sort_values(by=['Year'])\n",
    "bboard_song_velocity_top100.head()\n",
    "fig = go.Figure()\n",
    "\n",
    "fig.add_trace(go.Scatter(\n",
    "    x=bboard_song_velocity_top100['Song'],\n",
    "    y=bboard_song_velocity_top100['Weeks before no. 1'],\n",
    "    mode='markers',\n",
    "    marker=dict(\n",
    "        line=dict(width=2, color='DarkSlateGrey'),\n",
    "        size=15,\n",
    "        cmax=15,\n",
    "        cmin=5,\n",
    "        color=bboard_song_velocity_top100['Weeks before no. 1'],\n",
    "        colorbar=dict(\n",
    "            title=\"Weeks before #1\"\n",
    "        ),\n",
    "        colorscale=\"VIRIDIS\"\n",
    "    ),\n",
    "    marker_size=bboard_song_velocity_top100['no. 1 Streak'],\n",
    "    text=bboard_song_velocity_top100['Performer'],\n",
    "    hovertemplate = \"<b>%{x}</b><br><i>%{text}</i><br><br>Weeks before #1: %{y}<br>#1 Streak: %{marker.size}\",\n",
    "))\n",
    "\n",
    "fig.update_layout(\n",
    "    title={\n",
    "        'text': \"Top 100 Billboard #1 Songs in terms of Weeks before #1 and #1 Streak\",\n",
    "        'y':0.9,\n",
    "        'x':0.5,\n",
    "        'xanchor': 'center',\n",
    "        'yanchor': 'top'},\n",
    "    autosize=False,\n",
    "        width=1000,\n",
    "        height=800,\n",
    "        margin=go.layout.Margin(\n",
    "            l=50,\n",
    "            r=50,\n",
    "            b=300,\n",
    "            t=100,\n",
    "            pad=4\n",
    "        ))\n",
    "fig.update_xaxes(title_text='Song')\n",
    "fig.update_xaxes(tickangle=45)\n",
    "fig.update_yaxes(title_text='Weeks before #1')\n",
    "\n",
    "fig.show()"
   ]
  },
  {
   "cell_type": "markdown",
   "metadata": {},
   "source": [
    "#### Step 3: Analysis\n",
    "\n",
    "There are (again) some interesting observations to be made from this visualization. Immediately, we see an outlier datapoint with a high count of weeks before reaching no. 1 (low velocity). This song, 'Macarena', proceeded to spend 14 weeks at no. 1, an impressive feat. Another observation is the 1990s had many songs that reached no. 1 with fewer weeks than much of the songs in the 2000s. We see the pattern in the 1990s repeating again from the 2010s, with songs consistently spending less than 7-8 weeks to reach no. 1. This could be due to the additional factors added into the Billboard charting calculations, including YouTube streaming, as we will explore in section III."
   ]
  },
  {
   "cell_type": "markdown",
   "metadata": {},
   "source": [
    "### III. Song Performance as other streaming mediums are introduced (ex. YouTube)\n",
    "\n",
    "In 2013, Billboard added YouTube streaming to its Hot 100 calculations ([link](https://www.billboard.com/articles/news/1549399/hot-100-news-billboard-and-nielsen-add-youtube-video-streaming-to-platforms)). It would be interesting to see the contribution of trending YouTube music videos (that correlate to the songs) to the Billboard charting songs."
   ]
  },
  {
   "cell_type": "code",
   "execution_count": 7,
   "metadata": {
    "collapsed": true
   },
   "outputs": [],
   "source": [
    "# load the data\n",
    "yt_data = pd.read_csv('../raw_data/yt_us_videos.csv')"
   ]
  },
  {
   "cell_type": "code",
   "execution_count": 8,
   "metadata": {
    "collapsed": false
   },
   "outputs": [],
   "source": [
    "# keep only the videos from official YouTube music accounts (VEVO)\n",
    "# stackoverflow link: https://stackoverflow.com/questions/11350770/select-by-partial-string-from-a-pandas-dataframe\n",
    "yt_data_vevo = yt_data[yt_data['channel_title'].str.contains(\"vevo\",case=False)]\n",
    "yt_data_vevo.to_csv('tmp_data/yt_data_vevo.csv')"
   ]
  },
  {
   "cell_type": "code",
   "execution_count": 10,
   "metadata": {
    "collapsed": false
   },
   "outputs": [
    {
     "data": {
      "text/html": [
       "<div>\n",
       "<style scoped>\n",
       "    .dataframe tbody tr th:only-of-type {\n",
       "        vertical-align: middle;\n",
       "    }\n",
       "\n",
       "    .dataframe tbody tr th {\n",
       "        vertical-align: top;\n",
       "    }\n",
       "\n",
       "    .dataframe thead th {\n",
       "        text-align: right;\n",
       "    }\n",
       "</style>\n",
       "<table border=\"1\" class=\"dataframe\">\n",
       "  <thead>\n",
       "    <tr style=\"text-align: right;\">\n",
       "      <th></th>\n",
       "      <th>Unnamed: 0</th>\n",
       "      <th>video_id</th>\n",
       "      <th>trending_date</th>\n",
       "      <th>title</th>\n",
       "      <th>channel_title</th>\n",
       "      <th>category_id</th>\n",
       "      <th>publish_time</th>\n",
       "      <th>tags</th>\n",
       "      <th>views</th>\n",
       "      <th>likes</th>\n",
       "      <th>dislikes</th>\n",
       "      <th>comment_count</th>\n",
       "      <th>thumbnail_link</th>\n",
       "      <th>comments_disabled</th>\n",
       "      <th>ratings_disabled</th>\n",
       "      <th>video_error_or_removed</th>\n",
       "      <th>description</th>\n",
       "    </tr>\n",
       "  </thead>\n",
       "  <tbody>\n",
       "    <tr>\n",
       "      <th>0</th>\n",
       "      <td>32</td>\n",
       "      <td>n1WpP7iowLc</td>\n",
       "      <td>17.14.11</td>\n",
       "      <td>Eminem - Walk On Water (Audio) ft. Beyoncé</td>\n",
       "      <td>EminemVEVO</td>\n",
       "      <td>10</td>\n",
       "      <td>2017-11-10T17:00:03.000Z</td>\n",
       "      <td>Eminem|\"Walk\"|\"On\"|\"Water\"|\"Aftermath/Shady/In...</td>\n",
       "      <td>17158531</td>\n",
       "      <td>787419</td>\n",
       "      <td>43420</td>\n",
       "      <td>125882</td>\n",
       "      <td>https://i.ytimg.com/vi/n1WpP7iowLc/default.jpg</td>\n",
       "      <td>False</td>\n",
       "      <td>False</td>\n",
       "      <td>False</td>\n",
       "      <td>Eminem's new track Walk on Water ft. Beyoncé i...</td>\n",
       "    </tr>\n",
       "    <tr>\n",
       "      <th>1</th>\n",
       "      <td>40</td>\n",
       "      <td>PaJCFHXcWmM</td>\n",
       "      <td>17.14.11</td>\n",
       "      <td>U2 - The Blackout</td>\n",
       "      <td>U2VEVO</td>\n",
       "      <td>10</td>\n",
       "      <td>2017-11-13T17:00:04.000Z</td>\n",
       "      <td>U2|\"The\"|\"Blackout\"|\"Island\"|\"Records\"|\"Rock\"</td>\n",
       "      <td>60506</td>\n",
       "      <td>5389</td>\n",
       "      <td>106</td>\n",
       "      <td>455</td>\n",
       "      <td>https://i.ytimg.com/vi/PaJCFHXcWmM/default.jpg</td>\n",
       "      <td>False</td>\n",
       "      <td>False</td>\n",
       "      <td>False</td>\n",
       "      <td>'The Blackout’ from upcoming album Songs of Ex...</td>\n",
       "    </tr>\n",
       "    <tr>\n",
       "      <th>2</th>\n",
       "      <td>53</td>\n",
       "      <td>9t9u_yPEidY</td>\n",
       "      <td>17.14.11</td>\n",
       "      <td>Jennifer Lopez - Amor, Amor, Amor (Official Vi...</td>\n",
       "      <td>JenniferLopezVEVO</td>\n",
       "      <td>10</td>\n",
       "      <td>2017-11-10T15:00:00.000Z</td>\n",
       "      <td>Jennifer Lopez ft. Wisin|\"Jennifer Lopez ft. W...</td>\n",
       "      <td>9548677</td>\n",
       "      <td>190083</td>\n",
       "      <td>15015</td>\n",
       "      <td>11473</td>\n",
       "      <td>https://i.ytimg.com/vi/9t9u_yPEidY/default.jpg</td>\n",
       "      <td>False</td>\n",
       "      <td>False</td>\n",
       "      <td>False</td>\n",
       "      <td>Jennifer Lopez ft. Wisin - Amor, Amor, Amor (O...</td>\n",
       "    </tr>\n",
       "    <tr>\n",
       "      <th>3</th>\n",
       "      <td>63</td>\n",
       "      <td>ujyTQNNjjDU</td>\n",
       "      <td>17.14.11</td>\n",
       "      <td>G-Eazy - The Plan (Official Video)</td>\n",
       "      <td>GEazyMusicVEVO</td>\n",
       "      <td>10</td>\n",
       "      <td>2017-11-10T05:00:01.000Z</td>\n",
       "      <td>BPG/RVG/RCA Records|\"G-Eazy\"|\"Rap\"|\"The Plan\"</td>\n",
       "      <td>2642930</td>\n",
       "      <td>115795</td>\n",
       "      <td>3055</td>\n",
       "      <td>6410</td>\n",
       "      <td>https://i.ytimg.com/vi/ujyTQNNjjDU/default.jpg</td>\n",
       "      <td>False</td>\n",
       "      <td>False</td>\n",
       "      <td>False</td>\n",
       "      <td>New Album ‘The Beautiful &amp; Damned’ Available E...</td>\n",
       "    </tr>\n",
       "    <tr>\n",
       "      <th>4</th>\n",
       "      <td>74</td>\n",
       "      <td>lY_0mkYDZDU</td>\n",
       "      <td>17.14.11</td>\n",
       "      <td>Foster The People - Sit Next to Me (Official V...</td>\n",
       "      <td>fosterthepeopleVEVO</td>\n",
       "      <td>10</td>\n",
       "      <td>2017-11-10T17:00:05.000Z</td>\n",
       "      <td>Foster|\"The\"|\"People\"|\"Sit\"|\"Next\"|\"to\"|\"Me\"|\"...</td>\n",
       "      <td>303956</td>\n",
       "      <td>18603</td>\n",
       "      <td>585</td>\n",
       "      <td>1745</td>\n",
       "      <td>https://i.ytimg.com/vi/lY_0mkYDZDU/default.jpg</td>\n",
       "      <td>False</td>\n",
       "      <td>False</td>\n",
       "      <td>False</td>\n",
       "      <td>Experience the Sit Next to Me video best on yo...</td>\n",
       "    </tr>\n",
       "  </tbody>\n",
       "</table>\n",
       "</div>"
      ],
      "text/plain": [
       "   Unnamed: 0     video_id trending_date  \\\n",
       "0          32  n1WpP7iowLc      17.14.11   \n",
       "1          40  PaJCFHXcWmM      17.14.11   \n",
       "2          53  9t9u_yPEidY      17.14.11   \n",
       "3          63  ujyTQNNjjDU      17.14.11   \n",
       "4          74  lY_0mkYDZDU      17.14.11   \n",
       "\n",
       "                                               title        channel_title  \\\n",
       "0         Eminem - Walk On Water (Audio) ft. Beyoncé           EminemVEVO   \n",
       "1                                  U2 - The Blackout               U2VEVO   \n",
       "2  Jennifer Lopez - Amor, Amor, Amor (Official Vi...    JenniferLopezVEVO   \n",
       "3                 G-Eazy - The Plan (Official Video)       GEazyMusicVEVO   \n",
       "4  Foster The People - Sit Next to Me (Official V...  fosterthepeopleVEVO   \n",
       "\n",
       "   category_id              publish_time  \\\n",
       "0           10  2017-11-10T17:00:03.000Z   \n",
       "1           10  2017-11-13T17:00:04.000Z   \n",
       "2           10  2017-11-10T15:00:00.000Z   \n",
       "3           10  2017-11-10T05:00:01.000Z   \n",
       "4           10  2017-11-10T17:00:05.000Z   \n",
       "\n",
       "                                                tags     views   likes  \\\n",
       "0  Eminem|\"Walk\"|\"On\"|\"Water\"|\"Aftermath/Shady/In...  17158531  787419   \n",
       "1      U2|\"The\"|\"Blackout\"|\"Island\"|\"Records\"|\"Rock\"     60506    5389   \n",
       "2  Jennifer Lopez ft. Wisin|\"Jennifer Lopez ft. W...   9548677  190083   \n",
       "3      BPG/RVG/RCA Records|\"G-Eazy\"|\"Rap\"|\"The Plan\"   2642930  115795   \n",
       "4  Foster|\"The\"|\"People\"|\"Sit\"|\"Next\"|\"to\"|\"Me\"|\"...    303956   18603   \n",
       "\n",
       "   dislikes  comment_count                                  thumbnail_link  \\\n",
       "0     43420         125882  https://i.ytimg.com/vi/n1WpP7iowLc/default.jpg   \n",
       "1       106            455  https://i.ytimg.com/vi/PaJCFHXcWmM/default.jpg   \n",
       "2     15015          11473  https://i.ytimg.com/vi/9t9u_yPEidY/default.jpg   \n",
       "3      3055           6410  https://i.ytimg.com/vi/ujyTQNNjjDU/default.jpg   \n",
       "4       585           1745  https://i.ytimg.com/vi/lY_0mkYDZDU/default.jpg   \n",
       "\n",
       "   comments_disabled  ratings_disabled  video_error_or_removed  \\\n",
       "0              False             False                   False   \n",
       "1              False             False                   False   \n",
       "2              False             False                   False   \n",
       "3              False             False                   False   \n",
       "4              False             False                   False   \n",
       "\n",
       "                                         description  \n",
       "0  Eminem's new track Walk on Water ft. Beyoncé i...  \n",
       "1  'The Blackout’ from upcoming album Songs of Ex...  \n",
       "2  Jennifer Lopez ft. Wisin - Amor, Amor, Amor (O...  \n",
       "3  New Album ‘The Beautiful & Damned’ Available E...  \n",
       "4  Experience the Sit Next to Me video best on yo...  "
      ]
     },
     "execution_count": 10,
     "metadata": {},
     "output_type": "execute_result"
    }
   ],
   "source": [
    "# read csv\n",
    "yt_data_vevo = pd.read_csv('tmp_data/yt_data_vevo.csv')\n",
    "yt_data_vevo.head()"
   ]
  },
  {
   "cell_type": "code",
   "execution_count": null,
   "metadata": {
    "collapsed": true
   },
   "outputs": [],
   "source": [
    "# join with billboard data\n"
   ]
  }
 ],
 "metadata": {
  "kernelspec": {
   "display_name": "Python 3",
   "language": "python",
   "name": "python3"
  },
  "language_info": {
   "codemirror_mode": {
    "name": "ipython",
    "version": 3
   },
   "file_extension": ".py",
   "mimetype": "text/x-python",
   "name": "python",
   "nbconvert_exporter": "python",
   "pygments_lexer": "ipython3",
   "version": "3.6.1"
  }
 },
 "nbformat": 4,
 "nbformat_minor": 0
}
